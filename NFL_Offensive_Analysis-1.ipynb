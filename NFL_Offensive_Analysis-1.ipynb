{
 "metadata": {
  "language_info": {
   "codemirror_mode": {
    "name": "ipython",
    "version": 3
   },
   "file_extension": ".py",
   "mimetype": "text/x-python",
   "name": "python",
   "nbconvert_exporter": "python",
   "pygments_lexer": "ipython3",
   "version": "3.8.5-final"
  },
  "orig_nbformat": 2,
  "kernelspec": {
   "name": "python3",
   "display_name": "Python 3.8.5 64-bit",
   "metadata": {
    "interpreter": {
     "hash": "1a2617327bae65c6a4d799e81fa840f9000ae74bb7b660fd632746a44d38d3e2"
    }
   }
  }
 },
 "nbformat": 4,
 "nbformat_minor": 2,
 "cells": [
  {
   "cell_type": "code",
   "execution_count": 5,
   "metadata": {},
   "outputs": [],
   "source": [
    "\n",
    "import pandas as pd\n",
    "import seaborn as sns\n",
    "import matplotlib.pyplot as plt\n",
    "import os\n",
    "import urllib.request\n",
    "from matplotlib.offsetbox import OffsetImage, AnnotationBbox\n",
    "%matplotlib inline"
   ]
  },
  {
   "cell_type": "code",
   "execution_count": 6,
   "metadata": {},
   "outputs": [
    {
     "output_type": "execute_result",
     "data": {
      "text/plain": [
       "'NFL FASTR Documentation:\\nhttps://www.rdocumentation.org/packages/nflscrapR/versions/1.8.1/topics/scrape_json_play_by_play'"
      ]
     },
     "metadata": {},
     "execution_count": 6
    }
   ],
   "source": [
    "'''NFL FASTR Documentation:\n",
    "https://www.rdocumentation.org/packages/nflscrapR/versions/1.8.1/topics/scrape_json_play_by_play'''"
   ]
  },
  {
   "cell_type": "code",
   "execution_count": 7,
   "metadata": {},
   "outputs": [],
   "source": [
    "'''Procure Data'''\n",
    "\n",
    "URL = 'https://github.com/guga31bb/nflfastR-data/blob/master/'\n",
    "Unzip = '.csv.gz?raw=True'"
   ]
  },
  {
   "cell_type": "code",
   "execution_count": 8,
   "metadata": {},
   "outputs": [],
   "source": [
    "'''Pull data'''\n",
    "\n",
    "def pull_PBP_data(YEAR):\n",
    "    \n",
    "    data = pd.read_csv('https://github.com/guga31bb/nflfastR-data/blob/master/data/' \\\n",
    "                         'play_by_play_' + str(YEAR) + Unzip,\n",
    "                         compression='gzip', low_memory=False)\n",
    "    \n",
    "    return data"
   ]
  },
  {
   "cell_type": "code",
   "execution_count": 9,
   "metadata": {},
   "outputs": [],
   "source": [
    "'''Data frames from last 3 years'''\n",
    "\n",
    "data_2020 = pd.DataFrame(pull_PBP_data(2020))\n",
    "data_2019 = pd.DataFrame(pull_PBP_data(2019))\n",
    "data_2018 = pd.DataFrame(pull_PBP_data(2018))\n"
   ]
  },
  {
   "cell_type": "code",
   "execution_count": 10,
   "metadata": {},
   "outputs": [],
   "source": [
    "# Neutral Situation\n",
    "\n",
    "def Neutral_Situation_Call(DF):\n",
    "    neutral_situation = DF.query(\"down < 4 & half_seconds_remaining > 120 & wp > .2 & wp <.8 & play_type != 'no_play'\")\n",
    "    return neutral_situation\n",
    "\n",
    "neutral_situation = Neutral_Situation_Call(data_2020)"
   ]
  },
  {
   "cell_type": "code",
   "execution_count": 22,
   "metadata": {},
   "outputs": [],
   "source": [
    "# Team List\n",
    "Team_List = ['ARI',\n",
    "'ATL',\n",
    "'BAL',\n",
    "'BUF',\n",
    "'CAR',\n",
    "'CHI',\n",
    "'CIN',\n",
    "'CLE',\n",
    "'DAL',\n",
    "'DEN',\n",
    "'DET',\n",
    "'GB',\n",
    "'HOU',\n",
    "'IND',\n",
    "'JAX',\n",
    "'KC',\n",
    "'LA',\n",
    "'LAC',\n",
    "'LV',\n",
    "'MIA',\n",
    "'MIN',\n",
    "'NE',\n",
    "'NO',\n",
    "'NYG',\n",
    "'NYJ',\n",
    "'PHI',\n",
    "'PIT',\n",
    "'SEA',\n",
    "'SF',\n",
    "'TB',\n",
    "'TEN',\n",
    "'WAS']\n",
    "\n",
    "\n",
    "\n"
   ]
  },
  {
   "cell_type": "code",
   "execution_count": 35,
   "metadata": {},
   "outputs": [
    {
     "output_type": "stream",
     "name": "stdout",
     "text": [
      "CHI\n"
     ]
    }
   ],
   "source": [
    "#CHOOSE TEAM\n",
    "\n",
    "def Select_Team():\n",
    "    \n",
    "    team = input('Input Team Name:')\n",
    "    \n",
    "    team = team.upper()\n",
    "\n",
    "    if team in Team_List:\n",
    "        return team\n",
    "    else:\n",
    "        print('Please input a valid team')\n",
    "\n",
    "    return team\n",
    "\n",
    "print(Select_Team())\n",
    "\n"
   ]
  },
  {
   "cell_type": "code",
   "execution_count": 36,
   "metadata": {},
   "outputs": [
    {
     "output_type": "stream",
     "name": "stderr",
     "text": [
      "<ipython-input-36-d6ce4d753ee5>:10: UserWarning: Boolean Series key will be reindexed to match DataFrame index.\n  Play_filter = Play_filter[neutral_situation['posteam'] == Team]\n"
     ]
    },
    {
     "output_type": "execute_result",
     "data": {
      "text/plain": [
       "shotgun                                         0           1            \n",
       "down                                          1.0   2.0   1.0   2.0   3.0\n",
       "posteam play_type pass_location pass_length                              \n",
       "CHI     pass      left          deep         14.0  11.1   0.0   6.2   3.9\n",
       "                                short        30.0  33.3  32.7  34.4  21.1\n",
       "                  middle        deep          2.0  18.5   1.9   3.1   6.6\n",
       "                                short         8.0   3.7  28.8  15.6  26.3\n",
       "                  right         deep          8.0   7.4   9.6   4.7   5.3\n",
       "                                short        38.0  25.9  26.9  35.9  36.8"
      ],
      "text/html": "<div>\n<style scoped>\n    .dataframe tbody tr th:only-of-type {\n        vertical-align: middle;\n    }\n\n    .dataframe tbody tr th {\n        vertical-align: top;\n    }\n\n    .dataframe thead tr th {\n        text-align: left;\n    }\n\n    .dataframe thead tr:last-of-type th {\n        text-align: right;\n    }\n</style>\n<table border=\"1\" class=\"dataframe\">\n  <thead>\n    <tr>\n      <th></th>\n      <th></th>\n      <th></th>\n      <th>shotgun</th>\n      <th colspan=\"2\" halign=\"left\">0</th>\n      <th colspan=\"3\" halign=\"left\">1</th>\n    </tr>\n    <tr>\n      <th></th>\n      <th></th>\n      <th></th>\n      <th>down</th>\n      <th>1.0</th>\n      <th>2.0</th>\n      <th>1.0</th>\n      <th>2.0</th>\n      <th>3.0</th>\n    </tr>\n    <tr>\n      <th>posteam</th>\n      <th>play_type</th>\n      <th>pass_location</th>\n      <th>pass_length</th>\n      <th></th>\n      <th></th>\n      <th></th>\n      <th></th>\n      <th></th>\n    </tr>\n  </thead>\n  <tbody>\n    <tr>\n      <th rowspan=\"6\" valign=\"top\">CHI</th>\n      <th rowspan=\"6\" valign=\"top\">pass</th>\n      <th rowspan=\"2\" valign=\"top\">left</th>\n      <th>deep</th>\n      <td>14.0</td>\n      <td>11.1</td>\n      <td>0.0</td>\n      <td>6.2</td>\n      <td>3.9</td>\n    </tr>\n    <tr>\n      <th>short</th>\n      <td>30.0</td>\n      <td>33.3</td>\n      <td>32.7</td>\n      <td>34.4</td>\n      <td>21.1</td>\n    </tr>\n    <tr>\n      <th rowspan=\"2\" valign=\"top\">middle</th>\n      <th>deep</th>\n      <td>2.0</td>\n      <td>18.5</td>\n      <td>1.9</td>\n      <td>3.1</td>\n      <td>6.6</td>\n    </tr>\n    <tr>\n      <th>short</th>\n      <td>8.0</td>\n      <td>3.7</td>\n      <td>28.8</td>\n      <td>15.6</td>\n      <td>26.3</td>\n    </tr>\n    <tr>\n      <th rowspan=\"2\" valign=\"top\">right</th>\n      <th>deep</th>\n      <td>8.0</td>\n      <td>7.4</td>\n      <td>9.6</td>\n      <td>4.7</td>\n      <td>5.3</td>\n    </tr>\n    <tr>\n      <th>short</th>\n      <td>38.0</td>\n      <td>25.9</td>\n      <td>26.9</td>\n      <td>35.9</td>\n      <td>36.8</td>\n    </tr>\n  </tbody>\n</table>\n</div>"
     },
     "metadata": {},
     "execution_count": 36
    }
   ],
   "source": [
    "## PLAYCALL FREQUENCY BY PLAY TYPE & DOWN\n",
    "\n",
    "def PlayFreq_ByTeam_Down(DF, PlayType, Team):\n",
    " \n",
    "    PT = str(PlayType)\n",
    "\n",
    "\n",
    "    neutral_situation = pd.DataFrame(DF.query(\"down < 4 & half_seconds_remaining > 120 & wp > .2 & wp <.8\"))\n",
    "    Play_filter = neutral_situation[neutral_situation['play_type'] == PT]\n",
    "    Play_filter = Play_filter[neutral_situation['posteam'] == Team]\n",
    "\n",
    "    if PlayType == 'run':\n",
    "        Tab = pd.crosstab([Play_filter.posteam,Play_filter.play_type,Play_filter.run_location, Play_filter.run_gap], columns= [Play_filter.shotgun,Play_filter.down] ,values = Play_filter.play_id, aggfunc='count', normalize='columns')\n",
    "    elif PlayType == 'pass':\n",
    "        Tab = pd.crosstab([Play_filter.posteam,Play_filter.play_type,Play_filter.pass_location, Play_filter.pass_length], columns= [ Play_filter.shotgun, Play_filter.down] ,values = Play_filter.play_id, aggfunc='count', normalize='columns')\n",
    "    else:\n",
    "        print(\"invalid play type\")\n",
    "\n",
    "\n",
    "    return round(Tab*100,1)\n",
    "\n",
    "PlayFreq_ByTeam_Down(data_2020,'pass',Team)"
   ]
  },
  {
   "cell_type": "code",
   "execution_count": 43,
   "metadata": {},
   "outputs": [
    {
     "output_type": "stream",
     "name": "stderr",
     "text": [
      "<ipython-input-43-e5596eb5399e>:10: UserWarning: Boolean Series key will be reindexed to match DataFrame index.\n  Play_filter = Play_filter[neutral_situation['posteam'] == Team]\n<ipython-input-43-e5596eb5399e>:10: UserWarning: Boolean Series key will be reindexed to match DataFrame index.\n  Play_filter = Play_filter[neutral_situation['posteam'] == Team]\n"
     ]
    },
    {
     "output_type": "execute_result",
     "data": {
      "text/plain": [
       "MultiIndex([(0, 1.0),\n",
       "            (0, 2.0),\n",
       "            (0, 3.0),\n",
       "            (1, 1.0),\n",
       "            (1, 2.0),\n",
       "            (1, 3.0)],\n",
       "           names=['shotgun', 'down'])"
      ]
     },
     "metadata": {},
     "execution_count": 43
    }
   ],
   "source": [
    "## PLAYCALL TYPE FREQUENCY BY DOWN\n",
    "\n",
    "def PlayFreqType_ByTeam_Down(DF, Team):\n",
    " \n",
    "  \n",
    "\n",
    "\n",
    "    neutral_situation = pd.DataFrame(DF.query(\"down < 4 & half_seconds_remaining > 120 & wp > .2 & wp <.8\"))\n",
    "    Play_filter = neutral_situation[(neutral_situation['play_type'] == 'pass') | (neutral_situation['play_type'] == 'run') ]\n",
    "    Play_filter = Play_filter[neutral_situation['posteam'] == Team]\n",
    "\n",
    "    \n",
    "    Tab = pd.crosstab([Play_filter.posteam,  Play_filter.play_type], columns= [Play_filter.shotgun,Play_filter.down] ,values = Play_filter.play_id, aggfunc='count', normalize='columns')\n",
    "    \n",
    "\n",
    "    return round(Tab*100,1)\n",
    "\n",
    "PlayFreqType_ByTeam_Down(data_2020,Team)\n"
   ]
  },
  {
   "cell_type": "code",
   "execution_count": 37,
   "metadata": {},
   "outputs": [
    {
     "output_type": "stream",
     "name": "stderr",
     "text": [
      "<ipython-input-37-e26c5f8815fe>:11: UserWarning: Boolean Series key will be reindexed to match DataFrame index.\n  Play_filter = Play_filter[neutral_situation['posteam'] == Team]\n"
     ]
    },
    {
     "output_type": "execute_result",
     "data": {
      "text/plain": [
       "                                         epa                                \\\n",
       "shotgun                                    0                 1               \n",
       "down                                     1.0   2.0   3.0   1.0   2.0   3.0   \n",
       "posteam play_type run_location run_gap                                       \n",
       "CHI     run       left         end     -0.23 -0.34  1.18 -0.48  0.70  0.33   \n",
       "                               guard   -0.53 -0.02 -1.19 -0.36 -0.40  0.49   \n",
       "                               tackle  -0.12  0.17   NaN  1.38 -0.50   NaN   \n",
       "                  right        end     -0.04  0.54  1.55 -0.07  0.39  0.86   \n",
       "                               guard   -0.46  0.18  0.51 -0.45 -0.51 -0.44   \n",
       "                               tackle  -0.01 -0.00   NaN  0.11 -0.22 -1.83   \n",
       "\n",
       "                                       yards_gained                           \\\n",
       "shotgun                                           0                 1          \n",
       "down                                            1.0   2.0  3.0    1.0    2.0   \n",
       "posteam play_type run_location run_gap                                         \n",
       "CHI     run       left         end             3.25  2.11  7.0   1.40  11.00   \n",
       "                               guard           1.33  2.50  0.0   1.00   3.20   \n",
       "                               tackle          4.18  4.40  NaN  22.00   3.00   \n",
       "                  right        end             4.24  5.40  7.0   4.60   8.60   \n",
       "                               guard           1.60  5.33  3.0   1.50   2.25   \n",
       "                               tackle          3.96  4.09  NaN   5.33   3.67   \n",
       "\n",
       "                                              \n",
       "shotgun                                       \n",
       "down                                     3.0  \n",
       "posteam play_type run_location run_gap        \n",
       "CHI     run       left         end      2.00  \n",
       "                               guard    3.33  \n",
       "                               tackle    NaN  \n",
       "                  right        end      6.00  \n",
       "                               guard    1.50  \n",
       "                               tackle   0.00  "
      ],
      "text/html": "<div>\n<style scoped>\n    .dataframe tbody tr th:only-of-type {\n        vertical-align: middle;\n    }\n\n    .dataframe tbody tr th {\n        vertical-align: top;\n    }\n\n    .dataframe thead tr th {\n        text-align: left;\n    }\n\n    .dataframe thead tr:last-of-type th {\n        text-align: right;\n    }\n</style>\n<table border=\"1\" class=\"dataframe\">\n  <thead>\n    <tr>\n      <th></th>\n      <th></th>\n      <th></th>\n      <th></th>\n      <th colspan=\"6\" halign=\"left\">epa</th>\n      <th colspan=\"6\" halign=\"left\">yards_gained</th>\n    </tr>\n    <tr>\n      <th></th>\n      <th></th>\n      <th></th>\n      <th>shotgun</th>\n      <th colspan=\"3\" halign=\"left\">0</th>\n      <th colspan=\"3\" halign=\"left\">1</th>\n      <th colspan=\"3\" halign=\"left\">0</th>\n      <th colspan=\"3\" halign=\"left\">1</th>\n    </tr>\n    <tr>\n      <th></th>\n      <th></th>\n      <th></th>\n      <th>down</th>\n      <th>1.0</th>\n      <th>2.0</th>\n      <th>3.0</th>\n      <th>1.0</th>\n      <th>2.0</th>\n      <th>3.0</th>\n      <th>1.0</th>\n      <th>2.0</th>\n      <th>3.0</th>\n      <th>1.0</th>\n      <th>2.0</th>\n      <th>3.0</th>\n    </tr>\n    <tr>\n      <th>posteam</th>\n      <th>play_type</th>\n      <th>run_location</th>\n      <th>run_gap</th>\n      <th></th>\n      <th></th>\n      <th></th>\n      <th></th>\n      <th></th>\n      <th></th>\n      <th></th>\n      <th></th>\n      <th></th>\n      <th></th>\n      <th></th>\n      <th></th>\n    </tr>\n  </thead>\n  <tbody>\n    <tr>\n      <th rowspan=\"6\" valign=\"top\">CHI</th>\n      <th rowspan=\"6\" valign=\"top\">run</th>\n      <th rowspan=\"3\" valign=\"top\">left</th>\n      <th>end</th>\n      <td>-0.23</td>\n      <td>-0.34</td>\n      <td>1.18</td>\n      <td>-0.48</td>\n      <td>0.70</td>\n      <td>0.33</td>\n      <td>3.25</td>\n      <td>2.11</td>\n      <td>7.0</td>\n      <td>1.40</td>\n      <td>11.00</td>\n      <td>2.00</td>\n    </tr>\n    <tr>\n      <th>guard</th>\n      <td>-0.53</td>\n      <td>-0.02</td>\n      <td>-1.19</td>\n      <td>-0.36</td>\n      <td>-0.40</td>\n      <td>0.49</td>\n      <td>1.33</td>\n      <td>2.50</td>\n      <td>0.0</td>\n      <td>1.00</td>\n      <td>3.20</td>\n      <td>3.33</td>\n    </tr>\n    <tr>\n      <th>tackle</th>\n      <td>-0.12</td>\n      <td>0.17</td>\n      <td>NaN</td>\n      <td>1.38</td>\n      <td>-0.50</td>\n      <td>NaN</td>\n      <td>4.18</td>\n      <td>4.40</td>\n      <td>NaN</td>\n      <td>22.00</td>\n      <td>3.00</td>\n      <td>NaN</td>\n    </tr>\n    <tr>\n      <th rowspan=\"3\" valign=\"top\">right</th>\n      <th>end</th>\n      <td>-0.04</td>\n      <td>0.54</td>\n      <td>1.55</td>\n      <td>-0.07</td>\n      <td>0.39</td>\n      <td>0.86</td>\n      <td>4.24</td>\n      <td>5.40</td>\n      <td>7.0</td>\n      <td>4.60</td>\n      <td>8.60</td>\n      <td>6.00</td>\n    </tr>\n    <tr>\n      <th>guard</th>\n      <td>-0.46</td>\n      <td>0.18</td>\n      <td>0.51</td>\n      <td>-0.45</td>\n      <td>-0.51</td>\n      <td>-0.44</td>\n      <td>1.60</td>\n      <td>5.33</td>\n      <td>3.0</td>\n      <td>1.50</td>\n      <td>2.25</td>\n      <td>1.50</td>\n    </tr>\n    <tr>\n      <th>tackle</th>\n      <td>-0.01</td>\n      <td>-0.00</td>\n      <td>NaN</td>\n      <td>0.11</td>\n      <td>-0.22</td>\n      <td>-1.83</td>\n      <td>3.96</td>\n      <td>4.09</td>\n      <td>NaN</td>\n      <td>5.33</td>\n      <td>3.67</td>\n      <td>0.00</td>\n    </tr>\n  </tbody>\n</table>\n</div>"
     },
     "metadata": {},
     "execution_count": 37
    }
   ],
   "source": [
    "## EPA BY DOWN \n",
    "\n",
    "\n",
    "def PlayEPA_ByTeam_Down(DF, PlayType, Team):\n",
    " \n",
    "    PT = str(PlayType)\n",
    "\n",
    "\n",
    "    neutral_situation = pd.DataFrame(DF.query(\"down < 4 & half_seconds_remaining > 120 & wp > .2 & wp <.8\"))\n",
    "    Play_filter = neutral_situation[neutral_situation['play_type'] == PT]\n",
    "    Play_filter = Play_filter[neutral_situation['posteam'] == Team]\n",
    "\n",
    "    if PlayType == 'run':\n",
    "        Tab = pd.pivot_table(Play_filter, index= ['posteam','play_type', 'run_location', 'run_gap'], columns = ['shotgun','down'], values = ['epa', 'yards_gained' ])\n",
    "    elif PlayType == 'pass':\n",
    "        Tab = pd.pivot_table(Play_filter, index= ['posteam','play_type', 'pass_location', 'pass_length'], columns = ['shotgun', 'down'], values = ['epa', 'yards_gained', 'air_yards'])\n",
    "    else:\n",
    "        print(\"invalid play type\")\n",
    "\n",
    "\n",
    "    return round(Tab,2)\n",
    "\n",
    "PlayEPA_ByTeam_Down(data_2020,'run',Team)"
   ]
  },
  {
   "cell_type": "code",
   "execution_count": 45,
   "metadata": {},
   "outputs": [
    {
     "output_type": "execute_result",
     "data": {
      "text/plain": [
       "                         epa       yards_gained      \n",
       "shotgun                    0     1            0     1\n",
       "posteam play_type down                               \n",
       "CHI     pass      1.0   0.11  0.01         7.13  6.09\n",
       "                  2.0   0.50 -0.10        10.63  5.16\n",
       "                  3.0    NaN -0.39          NaN  4.10\n",
       "        run       1.0  -0.16  0.09         3.43  6.56\n",
       "                  2.0   0.05  0.03         4.06  6.41\n",
       "                  3.0   0.09 -0.06         3.00  2.59"
      ],
      "text/html": "<div>\n<style scoped>\n    .dataframe tbody tr th:only-of-type {\n        vertical-align: middle;\n    }\n\n    .dataframe tbody tr th {\n        vertical-align: top;\n    }\n\n    .dataframe thead tr th {\n        text-align: left;\n    }\n\n    .dataframe thead tr:last-of-type th {\n        text-align: right;\n    }\n</style>\n<table border=\"1\" class=\"dataframe\">\n  <thead>\n    <tr>\n      <th></th>\n      <th></th>\n      <th></th>\n      <th colspan=\"2\" halign=\"left\">epa</th>\n      <th colspan=\"2\" halign=\"left\">yards_gained</th>\n    </tr>\n    <tr>\n      <th></th>\n      <th></th>\n      <th>shotgun</th>\n      <th>0</th>\n      <th>1</th>\n      <th>0</th>\n      <th>1</th>\n    </tr>\n    <tr>\n      <th>posteam</th>\n      <th>play_type</th>\n      <th>down</th>\n      <th></th>\n      <th></th>\n      <th></th>\n      <th></th>\n    </tr>\n  </thead>\n  <tbody>\n    <tr>\n      <th rowspan=\"6\" valign=\"top\">CHI</th>\n      <th rowspan=\"3\" valign=\"top\">pass</th>\n      <th>1.0</th>\n      <td>0.11</td>\n      <td>0.01</td>\n      <td>7.13</td>\n      <td>6.09</td>\n    </tr>\n    <tr>\n      <th>2.0</th>\n      <td>0.50</td>\n      <td>-0.10</td>\n      <td>10.63</td>\n      <td>5.16</td>\n    </tr>\n    <tr>\n      <th>3.0</th>\n      <td>NaN</td>\n      <td>-0.39</td>\n      <td>NaN</td>\n      <td>4.10</td>\n    </tr>\n    <tr>\n      <th rowspan=\"3\" valign=\"top\">run</th>\n      <th>1.0</th>\n      <td>-0.16</td>\n      <td>0.09</td>\n      <td>3.43</td>\n      <td>6.56</td>\n    </tr>\n    <tr>\n      <th>2.0</th>\n      <td>0.05</td>\n      <td>0.03</td>\n      <td>4.06</td>\n      <td>6.41</td>\n    </tr>\n    <tr>\n      <th>3.0</th>\n      <td>0.09</td>\n      <td>-0.06</td>\n      <td>3.00</td>\n      <td>2.59</td>\n    </tr>\n  </tbody>\n</table>\n</div>"
     },
     "metadata": {},
     "execution_count": 45
    }
   ],
   "source": [
    "# EPA by Team, Play-type and Down -- HI LEVEL\n",
    "\n",
    "\n",
    "def EPA_ByTeam_Down(DF, Team):\n",
    "\n",
    "    Team_table = neutral_situation[neutral_situation['posteam']==Team]\n",
    "    \n",
    "    Table_2 = round(pd.pivot_table(Team_table, index= ['posteam','play_type', 'down'], columns = ['shotgun'], values = ['epa', 'yards_gained']),2)\n",
    "\n",
    "    return pd.DataFrame(Table_2) \n",
    "\n",
    "EPA_ByTeam_Down(data_2020,Team)\n",
    "\n"
   ]
  },
  {
   "cell_type": "code",
   "execution_count": 61,
   "metadata": {},
   "outputs": [
    {
     "output_type": "stream",
     "name": "stderr",
     "text": [
      "C:\\Users\\BennettCelichowski\\AppData\\Local\\Programs\\Python\\Python38\\lib\\site-packages\\seaborn\\_decorators.py:36: FutureWarning: Pass the following variable as a keyword arg: x. From version 0.12, the only valid positional argument will be `data`, and passing other arguments without an explicit keyword will result in an error or misinterpretation.\n  warnings.warn(\n"
     ]
    },
    {
     "output_type": "error",
     "ename": "ValueError",
     "evalue": "Could not interpret input 'Shotgun'",
     "traceback": [
      "\u001b[1;31m---------------------------------------------------------------------------\u001b[0m",
      "\u001b[1;31mValueError\u001b[0m                                Traceback (most recent call last)",
      "\u001b[1;32m<ipython-input-61-08632d566fbe>\u001b[0m in \u001b[0;36m<module>\u001b[1;34m\u001b[0m\n\u001b[0;32m      9\u001b[0m \u001b[0mEPA_ByTeam_Down2\u001b[0m\u001b[1;33m(\u001b[0m\u001b[0mdata_2020\u001b[0m\u001b[1;33m,\u001b[0m\u001b[0mTeam\u001b[0m\u001b[1;33m)\u001b[0m\u001b[1;33m\u001b[0m\u001b[1;33m\u001b[0m\u001b[0m\n\u001b[0;32m     10\u001b[0m \u001b[1;33m\u001b[0m\u001b[0m\n\u001b[1;32m---> 11\u001b[1;33m \u001b[0msns\u001b[0m\u001b[1;33m.\u001b[0m\u001b[0mbarplot\u001b[0m\u001b[1;33m(\u001b[0m\u001b[0mEPA_ByTeam_Down2\u001b[0m\u001b[1;33m(\u001b[0m\u001b[0mdata_2020\u001b[0m\u001b[1;33m,\u001b[0m\u001b[0mTeam\u001b[0m\u001b[1;33m)\u001b[0m\u001b[1;33m,\u001b[0m\u001b[0mx\u001b[0m\u001b[1;33m=\u001b[0m\u001b[1;33m[\u001b[0m\u001b[1;34m'play_type'\u001b[0m\u001b[1;33m,\u001b[0m\u001b[1;34m'down'\u001b[0m\u001b[1;33m]\u001b[0m\u001b[1;33m,\u001b[0m \u001b[0my\u001b[0m\u001b[1;33m=\u001b[0m\u001b[1;34m'Shotgun'\u001b[0m\u001b[1;33m)\u001b[0m\u001b[1;33m\u001b[0m\u001b[1;33m\u001b[0m\u001b[0m\n\u001b[0m",
      "\u001b[1;32m~\\AppData\\Local\\Programs\\Python\\Python38\\lib\\site-packages\\seaborn\\_decorators.py\u001b[0m in \u001b[0;36minner_f\u001b[1;34m(*args, **kwargs)\u001b[0m\n\u001b[0;32m     44\u001b[0m             )\n\u001b[0;32m     45\u001b[0m         \u001b[0mkwargs\u001b[0m\u001b[1;33m.\u001b[0m\u001b[0mupdate\u001b[0m\u001b[1;33m(\u001b[0m\u001b[1;33m{\u001b[0m\u001b[0mk\u001b[0m\u001b[1;33m:\u001b[0m \u001b[0marg\u001b[0m \u001b[1;32mfor\u001b[0m \u001b[0mk\u001b[0m\u001b[1;33m,\u001b[0m \u001b[0marg\u001b[0m \u001b[1;32min\u001b[0m \u001b[0mzip\u001b[0m\u001b[1;33m(\u001b[0m\u001b[0msig\u001b[0m\u001b[1;33m.\u001b[0m\u001b[0mparameters\u001b[0m\u001b[1;33m,\u001b[0m \u001b[0margs\u001b[0m\u001b[1;33m)\u001b[0m\u001b[1;33m}\u001b[0m\u001b[1;33m)\u001b[0m\u001b[1;33m\u001b[0m\u001b[1;33m\u001b[0m\u001b[0m\n\u001b[1;32m---> 46\u001b[1;33m         \u001b[1;32mreturn\u001b[0m \u001b[0mf\u001b[0m\u001b[1;33m(\u001b[0m\u001b[1;33m**\u001b[0m\u001b[0mkwargs\u001b[0m\u001b[1;33m)\u001b[0m\u001b[1;33m\u001b[0m\u001b[1;33m\u001b[0m\u001b[0m\n\u001b[0m\u001b[0;32m     47\u001b[0m     \u001b[1;32mreturn\u001b[0m \u001b[0minner_f\u001b[0m\u001b[1;33m\u001b[0m\u001b[1;33m\u001b[0m\u001b[0m\n\u001b[0;32m     48\u001b[0m \u001b[1;33m\u001b[0m\u001b[0m\n",
      "\u001b[1;32m~\\AppData\\Local\\Programs\\Python\\Python38\\lib\\site-packages\\seaborn\\categorical.py\u001b[0m in \u001b[0;36mbarplot\u001b[1;34m(x, y, hue, data, order, hue_order, estimator, ci, n_boot, units, seed, orient, color, palette, saturation, errcolor, errwidth, capsize, dodge, ax, **kwargs)\u001b[0m\n\u001b[0;32m   3177\u001b[0m ):\n\u001b[0;32m   3178\u001b[0m \u001b[1;33m\u001b[0m\u001b[0m\n\u001b[1;32m-> 3179\u001b[1;33m     plotter = _BarPlotter(x, y, hue, data, order, hue_order,\n\u001b[0m\u001b[0;32m   3180\u001b[0m                           \u001b[0mestimator\u001b[0m\u001b[1;33m,\u001b[0m \u001b[0mci\u001b[0m\u001b[1;33m,\u001b[0m \u001b[0mn_boot\u001b[0m\u001b[1;33m,\u001b[0m \u001b[0munits\u001b[0m\u001b[1;33m,\u001b[0m \u001b[0mseed\u001b[0m\u001b[1;33m,\u001b[0m\u001b[1;33m\u001b[0m\u001b[1;33m\u001b[0m\u001b[0m\n\u001b[0;32m   3181\u001b[0m                           \u001b[0morient\u001b[0m\u001b[1;33m,\u001b[0m \u001b[0mcolor\u001b[0m\u001b[1;33m,\u001b[0m \u001b[0mpalette\u001b[0m\u001b[1;33m,\u001b[0m \u001b[0msaturation\u001b[0m\u001b[1;33m,\u001b[0m\u001b[1;33m\u001b[0m\u001b[1;33m\u001b[0m\u001b[0m\n",
      "\u001b[1;32m~\\AppData\\Local\\Programs\\Python\\Python38\\lib\\site-packages\\seaborn\\categorical.py\u001b[0m in \u001b[0;36m__init__\u001b[1;34m(self, x, y, hue, data, order, hue_order, estimator, ci, n_boot, units, seed, orient, color, palette, saturation, errcolor, errwidth, capsize, dodge)\u001b[0m\n\u001b[0;32m   1582\u001b[0m                  errwidth, capsize, dodge):\n\u001b[0;32m   1583\u001b[0m         \u001b[1;34m\"\"\"Initialize the plotter.\"\"\"\u001b[0m\u001b[1;33m\u001b[0m\u001b[1;33m\u001b[0m\u001b[0m\n\u001b[1;32m-> 1584\u001b[1;33m         self.establish_variables(x, y, hue, data, orient,\n\u001b[0m\u001b[0;32m   1585\u001b[0m                                  order, hue_order, units)\n\u001b[0;32m   1586\u001b[0m         \u001b[0mself\u001b[0m\u001b[1;33m.\u001b[0m\u001b[0mestablish_colors\u001b[0m\u001b[1;33m(\u001b[0m\u001b[0mcolor\u001b[0m\u001b[1;33m,\u001b[0m \u001b[0mpalette\u001b[0m\u001b[1;33m,\u001b[0m \u001b[0msaturation\u001b[0m\u001b[1;33m)\u001b[0m\u001b[1;33m\u001b[0m\u001b[1;33m\u001b[0m\u001b[0m\n",
      "\u001b[1;32m~\\AppData\\Local\\Programs\\Python\\Python38\\lib\\site-packages\\seaborn\\categorical.py\u001b[0m in \u001b[0;36mestablish_variables\u001b[1;34m(self, x, y, hue, data, orient, order, hue_order, units)\u001b[0m\n\u001b[0;32m    151\u001b[0m                 \u001b[1;32mif\u001b[0m \u001b[0misinstance\u001b[0m\u001b[1;33m(\u001b[0m\u001b[0mvar\u001b[0m\u001b[1;33m,\u001b[0m \u001b[0mstr\u001b[0m\u001b[1;33m)\u001b[0m\u001b[1;33m:\u001b[0m\u001b[1;33m\u001b[0m\u001b[1;33m\u001b[0m\u001b[0m\n\u001b[0;32m    152\u001b[0m                     \u001b[0merr\u001b[0m \u001b[1;33m=\u001b[0m \u001b[1;34m\"Could not interpret input '{}'\"\u001b[0m\u001b[1;33m.\u001b[0m\u001b[0mformat\u001b[0m\u001b[1;33m(\u001b[0m\u001b[0mvar\u001b[0m\u001b[1;33m)\u001b[0m\u001b[1;33m\u001b[0m\u001b[1;33m\u001b[0m\u001b[0m\n\u001b[1;32m--> 153\u001b[1;33m                     \u001b[1;32mraise\u001b[0m \u001b[0mValueError\u001b[0m\u001b[1;33m(\u001b[0m\u001b[0merr\u001b[0m\u001b[1;33m)\u001b[0m\u001b[1;33m\u001b[0m\u001b[1;33m\u001b[0m\u001b[0m\n\u001b[0m\u001b[0;32m    154\u001b[0m \u001b[1;33m\u001b[0m\u001b[0m\n\u001b[0;32m    155\u001b[0m             \u001b[1;31m# Figure out the plotting orientation\u001b[0m\u001b[1;33m\u001b[0m\u001b[1;33m\u001b[0m\u001b[1;33m\u001b[0m\u001b[0m\n",
      "\u001b[1;31mValueError\u001b[0m: Could not interpret input 'Shotgun'"
     ]
    }
   ],
   "source": [
    "def EPA_ByTeam_Down2(DF, Team):\n",
    "\n",
    "    Team_table = neutral_situation[neutral_situation['posteam']==Team]\n",
    "    \n",
    "    Table_2 = round(pd.pivot_table(Team_table, index= ['play_type', 'down'], columns = ['shotgun'], values = ['yards_gained']),2)\n",
    "\n",
    "    return pd.DataFrame(Table_2) \n",
    "\n",
    "EPA_ByTeam_Down2(data_2020,Team)\n",
    "\n",
    "sns.barplot(EPA_ByTeam_Down2(data_2020,Team),x=['play_type','down'], y='Shotgun')"
   ]
  },
  {
   "cell_type": "code",
   "execution_count": null,
   "metadata": {},
   "outputs": [],
   "source": []
  }
 ]
}