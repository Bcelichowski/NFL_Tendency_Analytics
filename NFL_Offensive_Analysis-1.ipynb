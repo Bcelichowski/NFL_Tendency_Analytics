{
 "metadata": {
  "language_info": {
   "codemirror_mode": {
    "name": "ipython",
    "version": 3
   },
   "file_extension": ".py",
   "mimetype": "text/x-python",
   "name": "python",
   "nbconvert_exporter": "python",
   "pygments_lexer": "ipython3",
   "version": "3.8.5-final"
  },
  "orig_nbformat": 2,
  "kernelspec": {
   "name": "python3",
   "display_name": "Python 3.8.5 64-bit",
   "metadata": {
    "interpreter": {
     "hash": "1a2617327bae65c6a4d799e81fa840f9000ae74bb7b660fd632746a44d38d3e2"
    }
   }
  }
 },
 "nbformat": 4,
 "nbformat_minor": 2,
 "cells": [
  {
   "cell_type": "code",
   "execution_count": 3,
   "metadata": {},
   "outputs": [],
   "source": [
    "\n",
    "import pandas as pd\n",
    "import seaborn as sns\n",
    "import matplotlib.pyplot as plt\n",
    "import os\n",
    "import urllib.request\n",
    "from matplotlib.offsetbox import OffsetImage, AnnotationBbox\n",
    "%matplotlib inline"
   ]
  },
  {
   "cell_type": "code",
   "execution_count": 4,
   "metadata": {},
   "outputs": [
    {
     "output_type": "execute_result",
     "data": {
      "text/plain": [
       "'NFL FASTR Documentation:\\nhttps://www.rdocumentation.org/packages/nflscrapR/versions/1.8.1/topics/scrape_json_play_by_play'"
      ]
     },
     "metadata": {},
     "execution_count": 4
    }
   ],
   "source": [
    "'''NFL FASTR Documentation:\n",
    "https://www.rdocumentation.org/packages/nflscrapR/versions/1.8.1/topics/scrape_json_play_by_play'''"
   ]
  },
  {
   "cell_type": "code",
   "execution_count": 6,
   "metadata": {},
   "outputs": [],
   "source": [
    "'''Procure Data'''\n",
    "\n",
    "URL = 'https://github.com/guga31bb/nflfastR-data/blob/master/'\n",
    "Unzip = '.csv.gz?raw=True'"
   ]
  },
  {
   "cell_type": "code",
   "execution_count": 7,
   "metadata": {},
   "outputs": [],
   "source": [
    "'''Pull data'''\n",
    "\n",
    "def pull_PBP_data(YEAR):\n",
    "    \n",
    "    data = pd.read_csv('https://github.com/guga31bb/nflfastR-data/blob/master/data/' \\\n",
    "                         'play_by_play_' + str(YEAR) + Unzip,\n",
    "                         compression='gzip', low_memory=False)\n",
    "    \n",
    "    return data"
   ]
  },
  {
   "cell_type": "code",
   "execution_count": 9,
   "metadata": {},
   "outputs": [],
   "source": [
    "'''Data frames from last 3 years'''\n",
    "\n",
    "data_2020 = pd.DataFrame(pull_PBP_data(2020))\n",
    "data_2019 = pd.DataFrame(pull_PBP_data(2019))\n",
    "data_2018 = pd.DataFrame(pull_PBP_data(2018))\n"
   ]
  },
  {
   "cell_type": "code",
   "execution_count": 10,
   "metadata": {},
   "outputs": [],
   "source": [
    "# Neutral Situation\n",
    "\n",
    "def Neutral_Situation_Call(DF):\n",
    "    neutral_situation = DF.query(\"down < 4 & half_seconds_remaining > 120 & wp > .2 & wp <.8 & play_type != 'no_play'\")\n",
    "    return neutral_situation\n",
    "\n",
    "neutral_situation = Neutral_Situation_Call(data_2020)"
   ]
  },
  {
   "cell_type": "code",
   "execution_count": 11,
   "metadata": {},
   "outputs": [],
   "source": [
    "# Team List\n",
    "Team_List = ['ARI',\n",
    "'ATL',\n",
    "'BAL',\n",
    "'BUF',\n",
    "'CAR',\n",
    "'CHI',\n",
    "'CIN',\n",
    "'CLE',\n",
    "'DAL',\n",
    "'DEN',\n",
    "'DET',\n",
    "'GB',\n",
    "'HOU',\n",
    "'IND',\n",
    "'JAX',\n",
    "'KC',\n",
    "'LA',\n",
    "'LAC',\n",
    "'LV',\n",
    "'MIA',\n",
    "'MIN',\n",
    "'NE',\n",
    "'NO',\n",
    "'NYG',\n",
    "'NYJ',\n",
    "'PHI',\n",
    "'PIT',\n",
    "'SEA',\n",
    "'SF',\n",
    "'TB',\n",
    "'TEN',\n",
    "'WAS']\n",
    "\n",
    "\n",
    "\n"
   ]
  },
  {
   "cell_type": "code",
   "execution_count": 31,
   "metadata": {},
   "outputs": [],
   "source": [
    "#CHOOSE TEAM\n",
    "\n",
    "def Select_Team():\n",
    "    \n",
    "    team = input('Input Team Name:')\n",
    "    \n",
    "    team = team.upper()\n",
    "\n",
    "    if team in Team_List:\n",
    "        return team\n",
    "    else:\n",
    "        print('Please input a valid team')\n",
    "\n",
    "    \n",
    "    Team = team \n",
    "\n",
    "\n",
    "\n",
    "    return Team\n",
    "\n",
    "Team = Select_Team()\n",
    "\n"
   ]
  },
  {
   "cell_type": "code",
   "execution_count": 46,
   "metadata": {},
   "outputs": [
    {
     "output_type": "stream",
     "name": "stderr",
     "text": [
      "<ipython-input-46-4d4cdc086a3c>:10: UserWarning: Boolean Series key will be reindexed to match DataFrame index.\n  Play_filter = Play_filter[neutral_situation['posteam'] == Team]\n"
     ]
    },
    {
     "output_type": "execute_result",
     "data": {
      "text/plain": [
       "down                                          1.0         2.0          3.0  \\\n",
       "shotgun                                         0     1     0     1      0   \n",
       "posteam play_type pass_location pass_length                                  \n",
       "ARI     pass      left          deep         16.7   3.8   0.0   5.1    0.0   \n",
       "                                short        33.3  44.3   0.0  38.5    0.0   \n",
       "                  middle        deep          0.0   4.7   0.0   0.9    0.0   \n",
       "                                short         8.3  13.2  33.3  17.1    0.0   \n",
       "                  right         deep          8.3   6.6  33.3   6.8    0.0   \n",
       "                                short        33.3  27.4  33.3  31.6  100.0   \n",
       "\n",
       "down                                               \n",
       "shotgun                                         1  \n",
       "posteam play_type pass_location pass_length        \n",
       "ARI     pass      left          deep          9.1  \n",
       "                                short        36.4  \n",
       "                  middle        deep          6.8  \n",
       "                                short        15.9  \n",
       "                  right         deep         10.2  \n",
       "                                short        21.6  "
      ],
      "text/html": "<div>\n<style scoped>\n    .dataframe tbody tr th:only-of-type {\n        vertical-align: middle;\n    }\n\n    .dataframe tbody tr th {\n        vertical-align: top;\n    }\n\n    .dataframe thead tr th {\n        text-align: left;\n    }\n\n    .dataframe thead tr:last-of-type th {\n        text-align: right;\n    }\n</style>\n<table border=\"1\" class=\"dataframe\">\n  <thead>\n    <tr>\n      <th></th>\n      <th></th>\n      <th></th>\n      <th>down</th>\n      <th colspan=\"2\" halign=\"left\">1.0</th>\n      <th colspan=\"2\" halign=\"left\">2.0</th>\n      <th colspan=\"2\" halign=\"left\">3.0</th>\n    </tr>\n    <tr>\n      <th></th>\n      <th></th>\n      <th></th>\n      <th>shotgun</th>\n      <th>0</th>\n      <th>1</th>\n      <th>0</th>\n      <th>1</th>\n      <th>0</th>\n      <th>1</th>\n    </tr>\n    <tr>\n      <th>posteam</th>\n      <th>play_type</th>\n      <th>pass_location</th>\n      <th>pass_length</th>\n      <th></th>\n      <th></th>\n      <th></th>\n      <th></th>\n      <th></th>\n      <th></th>\n    </tr>\n  </thead>\n  <tbody>\n    <tr>\n      <th rowspan=\"6\" valign=\"top\">ARI</th>\n      <th rowspan=\"6\" valign=\"top\">pass</th>\n      <th rowspan=\"2\" valign=\"top\">left</th>\n      <th>deep</th>\n      <td>16.7</td>\n      <td>3.8</td>\n      <td>0.0</td>\n      <td>5.1</td>\n      <td>0.0</td>\n      <td>9.1</td>\n    </tr>\n    <tr>\n      <th>short</th>\n      <td>33.3</td>\n      <td>44.3</td>\n      <td>0.0</td>\n      <td>38.5</td>\n      <td>0.0</td>\n      <td>36.4</td>\n    </tr>\n    <tr>\n      <th rowspan=\"2\" valign=\"top\">middle</th>\n      <th>deep</th>\n      <td>0.0</td>\n      <td>4.7</td>\n      <td>0.0</td>\n      <td>0.9</td>\n      <td>0.0</td>\n      <td>6.8</td>\n    </tr>\n    <tr>\n      <th>short</th>\n      <td>8.3</td>\n      <td>13.2</td>\n      <td>33.3</td>\n      <td>17.1</td>\n      <td>0.0</td>\n      <td>15.9</td>\n    </tr>\n    <tr>\n      <th rowspan=\"2\" valign=\"top\">right</th>\n      <th>deep</th>\n      <td>8.3</td>\n      <td>6.6</td>\n      <td>33.3</td>\n      <td>6.8</td>\n      <td>0.0</td>\n      <td>10.2</td>\n    </tr>\n    <tr>\n      <th>short</th>\n      <td>33.3</td>\n      <td>27.4</td>\n      <td>33.3</td>\n      <td>31.6</td>\n      <td>100.0</td>\n      <td>21.6</td>\n    </tr>\n  </tbody>\n</table>\n</div>"
     },
     "metadata": {},
     "execution_count": 46
    }
   ],
   "source": [
    "## PLAYCALL FREQUENCY BY PLAY TYPE & DOWN\n",
    "\n",
    "def PlayFreq_ByTeam_Down(DF, PlayType, Team):\n",
    " \n",
    "    PT = str(PlayType)\n",
    "\n",
    "\n",
    "    neutral_situation = pd.DataFrame(DF.query(\"down < 4 & half_seconds_remaining > 120 & wp > .2 & wp <.8\"))\n",
    "    Play_filter = neutral_situation[neutral_situation['play_type'] == PT]\n",
    "    Play_filter = Play_filter[neutral_situation['posteam'] == Team]\n",
    "\n",
    "    if PlayType == 'run':\n",
    "        Tab = pd.crosstab([Play_filter.posteam,Play_filter.play_type,Play_filter.run_location, Play_filter.run_gap], columns= [Play_filter.down,Play_filter.shotgun] ,values = Play_filter.play_id, aggfunc='count', normalize='columns')\n",
    "    elif PlayType == 'pass':\n",
    "        Tab = pd.crosstab([Play_filter.posteam,Play_filter.play_type,Play_filter.pass_location, Play_filter.pass_length], columns= [ Play_filter.down,Play_filter.shotgun] ,values = Play_filter.play_id, aggfunc='count', normalize='columns')\n",
    "    else:\n",
    "        print(\"invalid play type\")\n",
    "\n",
    "\n",
    "    return round(Tab*100,1)\n",
    "\n",
    "PlayFreq_ByTeam_Down(data_2020,'pass',Team)"
   ]
  },
  {
   "cell_type": "code",
   "execution_count": 40,
   "metadata": {},
   "outputs": [
    {
     "output_type": "stream",
     "name": "stderr",
     "text": [
      "<ipython-input-40-ed4a9f05ef4a>:10: UserWarning: Boolean Series key will be reindexed to match DataFrame index.\n  Play_filter = Play_filter[neutral_situation['posteam'] == Team]\n"
     ]
    },
    {
     "output_type": "execute_result",
     "data": {
      "text/plain": [
       "down                1.0         2.0         3.0      \n",
       "shotgun               0     1     0     1     0     1\n",
       "posteam play_type                                    \n",
       "ARI     pass       37.1  42.9  33.3  63.2  33.3  76.2\n",
       "        run        62.9  57.1  66.7  36.8  66.7  23.8"
      ],
      "text/html": "<div>\n<style scoped>\n    .dataframe tbody tr th:only-of-type {\n        vertical-align: middle;\n    }\n\n    .dataframe tbody tr th {\n        vertical-align: top;\n    }\n\n    .dataframe thead tr th {\n        text-align: left;\n    }\n\n    .dataframe thead tr:last-of-type th {\n        text-align: right;\n    }\n</style>\n<table border=\"1\" class=\"dataframe\">\n  <thead>\n    <tr>\n      <th></th>\n      <th>down</th>\n      <th colspan=\"2\" halign=\"left\">1.0</th>\n      <th colspan=\"2\" halign=\"left\">2.0</th>\n      <th colspan=\"2\" halign=\"left\">3.0</th>\n    </tr>\n    <tr>\n      <th></th>\n      <th>shotgun</th>\n      <th>0</th>\n      <th>1</th>\n      <th>0</th>\n      <th>1</th>\n      <th>0</th>\n      <th>1</th>\n    </tr>\n    <tr>\n      <th>posteam</th>\n      <th>play_type</th>\n      <th></th>\n      <th></th>\n      <th></th>\n      <th></th>\n      <th></th>\n      <th></th>\n    </tr>\n  </thead>\n  <tbody>\n    <tr>\n      <th rowspan=\"2\" valign=\"top\">ARI</th>\n      <th>pass</th>\n      <td>37.1</td>\n      <td>42.9</td>\n      <td>33.3</td>\n      <td>63.2</td>\n      <td>33.3</td>\n      <td>76.2</td>\n    </tr>\n    <tr>\n      <th>run</th>\n      <td>62.9</td>\n      <td>57.1</td>\n      <td>66.7</td>\n      <td>36.8</td>\n      <td>66.7</td>\n      <td>23.8</td>\n    </tr>\n  </tbody>\n</table>\n</div>"
     },
     "metadata": {},
     "execution_count": 40
    }
   ],
   "source": [
    "## PLAYCALL TYPE FREQUENCY BY DOWN\n",
    "\n",
    "def PlayFreqType_ByTeam_Down(DF, Team):\n",
    " \n",
    "  \n",
    "\n",
    "\n",
    "    neutral_situation = pd.DataFrame(DF.query(\"down < 4 & half_seconds_remaining > 120 & wp > .2 & wp <.8\"))\n",
    "    Play_filter = neutral_situation[(neutral_situation['play_type'] == 'pass') | (neutral_situation['play_type'] == 'run') ]\n",
    "    Play_filter = Play_filter[neutral_situation['posteam'] == Team]\n",
    "\n",
    "    \n",
    "    Tab = pd.crosstab([Play_filter.posteam,  Play_filter.play_type], columns= [Play_filter.down,Play_filter.shotgun] ,values = Play_filter.play_id, aggfunc='count', normalize='columns')\n",
    "    \n",
    "\n",
    "    return round(Tab*100,1)\n",
    "\n",
    "PlayFreqType_ByTeam_Down(data_2020,Team)\n"
   ]
  },
  {
   "cell_type": "code",
   "execution_count": 41,
   "metadata": {},
   "outputs": [
    {
     "output_type": "stream",
     "name": "stderr",
     "text": [
      "<ipython-input-41-efb900900ba0>:11: UserWarning: Boolean Series key will be reindexed to match DataFrame index.\n  Play_filter = Play_filter[neutral_situation['posteam'] == Team]\n"
     ]
    },
    {
     "output_type": "execute_result",
     "data": {
      "text/plain": [
       "                                            air_yards                      \\\n",
       "down                                              1.0          2.0          \n",
       "shotgun                                             0      1     0      1   \n",
       "posteam play_type pass_location pass_length                                 \n",
       "ARI     pass      left          deep             17.0  25.00     -  23.17   \n",
       "                                short            2.25   1.60     -   4.58   \n",
       "                  middle        deep                -  26.40     -  28.00   \n",
       "                                short            15.0   5.29   4.0   3.55   \n",
       "                  right         deep             27.0  26.43  21.0  27.38   \n",
       "                                short           -0.75   4.31  10.0   3.84   \n",
       "\n",
       "                                                              epa        \\\n",
       "down                                         3.0              1.0         \n",
       "shotgun                                        0      1         0     1   \n",
       "posteam play_type pass_location pass_length                               \n",
       "ARI     pass      left          deep           -  24.12  0.926102  1.06   \n",
       "                                short          -   4.75 -1.643913 -0.32   \n",
       "                  middle        deep           -  28.67         - -0.34   \n",
       "                                short          -   5.57  0.875424  0.37   \n",
       "                  right         deep           -  28.78  -0.50009  0.69   \n",
       "                                short        1.0   3.53  0.398399 -0.02   \n",
       "\n",
       "                                                                             \\\n",
       "down                                              2.0             3.0         \n",
       "shotgun                                             0     1         0     1   \n",
       "posteam play_type pass_location pass_length                                   \n",
       "ARI     pass      left          deep                -  1.14         - -0.34   \n",
       "                                short               -  0.49         -  0.08   \n",
       "                  middle        deep                - -0.79         - -1.39   \n",
       "                                short        0.746432  0.69         -  0.24   \n",
       "                  right         deep          2.38765 -0.68         - -0.33   \n",
       "                                short       -0.864615 -0.04 -1.161387 -0.11   \n",
       "\n",
       "                                            yards_gained                      \\\n",
       "down                                                 1.0          2.0          \n",
       "shotgun                                                0      1     0      1   \n",
       "posteam play_type pass_location pass_length                                    \n",
       "ARI     pass      left          deep                16.0  19.25     -  17.00   \n",
       "                                short               3.25   5.28     -   7.29   \n",
       "                  middle        deep                   -  12.20     -   0.00   \n",
       "                                short               16.0   7.29   6.0   8.25   \n",
       "                  right         deep                 0.0  15.71  21.0   0.00   \n",
       "                                short                5.0   6.86   0.0   4.27   \n",
       "\n",
       "                                                        \n",
       "down                                         3.0        \n",
       "shotgun                                        0     1  \n",
       "posteam play_type pass_location pass_length             \n",
       "ARI     pass      left          deep           -  6.88  \n",
       "                                short          -  5.38  \n",
       "                  middle        deep           -  9.33  \n",
       "                                short          -  7.36  \n",
       "                  right         deep           -  6.89  \n",
       "                                short        0.0  5.63  "
      ],
      "text/html": "<div>\n<style scoped>\n    .dataframe tbody tr th:only-of-type {\n        vertical-align: middle;\n    }\n\n    .dataframe tbody tr th {\n        vertical-align: top;\n    }\n\n    .dataframe thead tr th {\n        text-align: left;\n    }\n\n    .dataframe thead tr:last-of-type th {\n        text-align: right;\n    }\n</style>\n<table border=\"1\" class=\"dataframe\">\n  <thead>\n    <tr>\n      <th></th>\n      <th></th>\n      <th></th>\n      <th></th>\n      <th colspan=\"6\" halign=\"left\">air_yards</th>\n      <th colspan=\"6\" halign=\"left\">epa</th>\n      <th colspan=\"6\" halign=\"left\">yards_gained</th>\n    </tr>\n    <tr>\n      <th></th>\n      <th></th>\n      <th></th>\n      <th>down</th>\n      <th colspan=\"2\" halign=\"left\">1.0</th>\n      <th colspan=\"2\" halign=\"left\">2.0</th>\n      <th colspan=\"2\" halign=\"left\">3.0</th>\n      <th colspan=\"2\" halign=\"left\">1.0</th>\n      <th colspan=\"2\" halign=\"left\">2.0</th>\n      <th colspan=\"2\" halign=\"left\">3.0</th>\n      <th colspan=\"2\" halign=\"left\">1.0</th>\n      <th colspan=\"2\" halign=\"left\">2.0</th>\n      <th colspan=\"2\" halign=\"left\">3.0</th>\n    </tr>\n    <tr>\n      <th></th>\n      <th></th>\n      <th></th>\n      <th>shotgun</th>\n      <th>0</th>\n      <th>1</th>\n      <th>0</th>\n      <th>1</th>\n      <th>0</th>\n      <th>1</th>\n      <th>0</th>\n      <th>1</th>\n      <th>0</th>\n      <th>1</th>\n      <th>0</th>\n      <th>1</th>\n      <th>0</th>\n      <th>1</th>\n      <th>0</th>\n      <th>1</th>\n      <th>0</th>\n      <th>1</th>\n    </tr>\n    <tr>\n      <th>posteam</th>\n      <th>play_type</th>\n      <th>pass_location</th>\n      <th>pass_length</th>\n      <th></th>\n      <th></th>\n      <th></th>\n      <th></th>\n      <th></th>\n      <th></th>\n      <th></th>\n      <th></th>\n      <th></th>\n      <th></th>\n      <th></th>\n      <th></th>\n      <th></th>\n      <th></th>\n      <th></th>\n      <th></th>\n      <th></th>\n      <th></th>\n    </tr>\n  </thead>\n  <tbody>\n    <tr>\n      <th rowspan=\"6\" valign=\"top\">ARI</th>\n      <th rowspan=\"6\" valign=\"top\">pass</th>\n      <th rowspan=\"2\" valign=\"top\">left</th>\n      <th>deep</th>\n      <td>17.0</td>\n      <td>25.00</td>\n      <td>-</td>\n      <td>23.17</td>\n      <td>-</td>\n      <td>24.12</td>\n      <td>0.926102</td>\n      <td>1.06</td>\n      <td>-</td>\n      <td>1.14</td>\n      <td>-</td>\n      <td>-0.34</td>\n      <td>16.0</td>\n      <td>19.25</td>\n      <td>-</td>\n      <td>17.00</td>\n      <td>-</td>\n      <td>6.88</td>\n    </tr>\n    <tr>\n      <th>short</th>\n      <td>2.25</td>\n      <td>1.60</td>\n      <td>-</td>\n      <td>4.58</td>\n      <td>-</td>\n      <td>4.75</td>\n      <td>-1.643913</td>\n      <td>-0.32</td>\n      <td>-</td>\n      <td>0.49</td>\n      <td>-</td>\n      <td>0.08</td>\n      <td>3.25</td>\n      <td>5.28</td>\n      <td>-</td>\n      <td>7.29</td>\n      <td>-</td>\n      <td>5.38</td>\n    </tr>\n    <tr>\n      <th rowspan=\"2\" valign=\"top\">middle</th>\n      <th>deep</th>\n      <td>-</td>\n      <td>26.40</td>\n      <td>-</td>\n      <td>28.00</td>\n      <td>-</td>\n      <td>28.67</td>\n      <td>-</td>\n      <td>-0.34</td>\n      <td>-</td>\n      <td>-0.79</td>\n      <td>-</td>\n      <td>-1.39</td>\n      <td>-</td>\n      <td>12.20</td>\n      <td>-</td>\n      <td>0.00</td>\n      <td>-</td>\n      <td>9.33</td>\n    </tr>\n    <tr>\n      <th>short</th>\n      <td>15.0</td>\n      <td>5.29</td>\n      <td>4.0</td>\n      <td>3.55</td>\n      <td>-</td>\n      <td>5.57</td>\n      <td>0.875424</td>\n      <td>0.37</td>\n      <td>0.746432</td>\n      <td>0.69</td>\n      <td>-</td>\n      <td>0.24</td>\n      <td>16.0</td>\n      <td>7.29</td>\n      <td>6.0</td>\n      <td>8.25</td>\n      <td>-</td>\n      <td>7.36</td>\n    </tr>\n    <tr>\n      <th rowspan=\"2\" valign=\"top\">right</th>\n      <th>deep</th>\n      <td>27.0</td>\n      <td>26.43</td>\n      <td>21.0</td>\n      <td>27.38</td>\n      <td>-</td>\n      <td>28.78</td>\n      <td>-0.50009</td>\n      <td>0.69</td>\n      <td>2.38765</td>\n      <td>-0.68</td>\n      <td>-</td>\n      <td>-0.33</td>\n      <td>0.0</td>\n      <td>15.71</td>\n      <td>21.0</td>\n      <td>0.00</td>\n      <td>-</td>\n      <td>6.89</td>\n    </tr>\n    <tr>\n      <th>short</th>\n      <td>-0.75</td>\n      <td>4.31</td>\n      <td>10.0</td>\n      <td>3.84</td>\n      <td>1.0</td>\n      <td>3.53</td>\n      <td>0.398399</td>\n      <td>-0.02</td>\n      <td>-0.864615</td>\n      <td>-0.04</td>\n      <td>-1.161387</td>\n      <td>-0.11</td>\n      <td>5.0</td>\n      <td>6.86</td>\n      <td>0.0</td>\n      <td>4.27</td>\n      <td>0.0</td>\n      <td>5.63</td>\n    </tr>\n  </tbody>\n</table>\n</div>"
     },
     "metadata": {},
     "execution_count": 41
    }
   ],
   "source": [
    "## EPA BY DOWN & FORMATION\n",
    "\n",
    "\n",
    "def PlayEPA_ByTeam_Down(DF, PlayType, Team):\n",
    " \n",
    "    PT = str(PlayType)\n",
    "\n",
    "\n",
    "    neutral_situation = pd.DataFrame(DF.query(\"down < 4 & half_seconds_remaining > 120 & wp > .2 & wp <.8\"))\n",
    "    Play_filter = neutral_situation[neutral_situation['play_type'] == PT]\n",
    "    Play_filter = Play_filter[neutral_situation['posteam'] == Team]\n",
    "\n",
    "    if PlayType == 'run':\n",
    "        Tab = pd.pivot_table(Play_filter, index= ['posteam','play_type', 'run_location', 'run_gap'], columns = ['down', 'shotgun'], values = ['epa', 'yards_gained' ],fill_value = '-')\n",
    "    elif PlayType == 'pass':\n",
    "        Tab = pd.pivot_table(Play_filter, index= ['posteam','play_type', 'pass_location', 'pass_length'], columns = ['down', 'shotgun'], values = ['epa', 'yards_gained', 'air_yards'] ,fill_value = '-')\n",
    "    else:\n",
    "        print(\"invalid play type\")\n",
    "\n",
    "\n",
    "    return round(Tab,2)\n",
    "\n",
    "PlayEPA_ByTeam_Down(data_2020,'pass',Team)"
   ]
  },
  {
   "cell_type": "code",
   "execution_count": 35,
   "metadata": {},
   "outputs": [
    {
     "output_type": "execute_result",
     "data": {
      "text/plain": [
       "                         epa       yards_gained      \n",
       "shotgun                    0     1            0     1\n",
       "posteam play_type down                               \n",
       "ARI     pass      1.0  -0.27 -0.09         6.15  6.89\n",
       "                  2.0   0.76  0.23         9.00  5.99\n",
       "                  3.0  -1.16 -0.28         0.00  5.48\n",
       "        run       1.0  -0.06 -0.06         3.68  4.37\n",
       "                  2.0  -0.27 -0.02         2.50  4.17\n",
       "                  3.0   0.83  0.31         2.00  6.21"
      ],
      "text/html": "<div>\n<style scoped>\n    .dataframe tbody tr th:only-of-type {\n        vertical-align: middle;\n    }\n\n    .dataframe tbody tr th {\n        vertical-align: top;\n    }\n\n    .dataframe thead tr th {\n        text-align: left;\n    }\n\n    .dataframe thead tr:last-of-type th {\n        text-align: right;\n    }\n</style>\n<table border=\"1\" class=\"dataframe\">\n  <thead>\n    <tr>\n      <th></th>\n      <th></th>\n      <th></th>\n      <th colspan=\"2\" halign=\"left\">epa</th>\n      <th colspan=\"2\" halign=\"left\">yards_gained</th>\n    </tr>\n    <tr>\n      <th></th>\n      <th></th>\n      <th>shotgun</th>\n      <th>0</th>\n      <th>1</th>\n      <th>0</th>\n      <th>1</th>\n    </tr>\n    <tr>\n      <th>posteam</th>\n      <th>play_type</th>\n      <th>down</th>\n      <th></th>\n      <th></th>\n      <th></th>\n      <th></th>\n    </tr>\n  </thead>\n  <tbody>\n    <tr>\n      <th rowspan=\"6\" valign=\"top\">ARI</th>\n      <th rowspan=\"3\" valign=\"top\">pass</th>\n      <th>1.0</th>\n      <td>-0.27</td>\n      <td>-0.09</td>\n      <td>6.15</td>\n      <td>6.89</td>\n    </tr>\n    <tr>\n      <th>2.0</th>\n      <td>0.76</td>\n      <td>0.23</td>\n      <td>9.00</td>\n      <td>5.99</td>\n    </tr>\n    <tr>\n      <th>3.0</th>\n      <td>-1.16</td>\n      <td>-0.28</td>\n      <td>0.00</td>\n      <td>5.48</td>\n    </tr>\n    <tr>\n      <th rowspan=\"3\" valign=\"top\">run</th>\n      <th>1.0</th>\n      <td>-0.06</td>\n      <td>-0.06</td>\n      <td>3.68</td>\n      <td>4.37</td>\n    </tr>\n    <tr>\n      <th>2.0</th>\n      <td>-0.27</td>\n      <td>-0.02</td>\n      <td>2.50</td>\n      <td>4.17</td>\n    </tr>\n    <tr>\n      <th>3.0</th>\n      <td>0.83</td>\n      <td>0.31</td>\n      <td>2.00</td>\n      <td>6.21</td>\n    </tr>\n  </tbody>\n</table>\n</div>"
     },
     "metadata": {},
     "execution_count": 35
    }
   ],
   "source": [
    "# EPA by Team, Play-type and Down -- HI LEVEL\n",
    "\n",
    "\n",
    "def EPA_ByTeam_Down(DF, Team):\n",
    "\n",
    "    Team_table = neutral_situation[neutral_situation['posteam']==Team]\n",
    "    \n",
    "    Table_2 = pd.pivot_table(Team_table, index= ['posteam','play_type', 'down'], columns = ['shotgun'], values = ['epa', 'yards_gained'], fill_value = '-')\n",
    "\n",
    "    return round(pd.DataFrame(Table_2),2) \n",
    "\n",
    "EPA_ByTeam_Down(data_2020,Team)\n",
    "\n"
   ]
  },
  {
   "cell_type": "code",
   "execution_count": 42,
   "metadata": {},
   "outputs": [
    {
     "output_type": "stream",
     "name": "stderr",
     "text": [
      "<ipython-input-42-7590cacf9968>:11: UserWarning: Boolean Series key will be reindexed to match DataFrame index.\n  Play_filter = Play_filter[neutral_situation['posteam'] == Team]\n"
     ]
    },
    {
     "output_type": "execute_result",
     "data": {
      "text/plain": [
       "                                             epa                      \\\n",
       "down                                         1.0                       \n",
       "shotgun                                        0                       \n",
       "rusher                                 C.Edmonds    C.Kirk D.Hopkins   \n",
       "posteam play_type run_location run_gap                                 \n",
       "ARI     run       left         end      -0.32207         -  0.993359   \n",
       "                               guard   -0.269558         -         -   \n",
       "                               tackle          -         -         -   \n",
       "                  right        end             - -0.537777         -   \n",
       "                               guard           -         -         -   \n",
       "                               tackle  -0.789454         -         -   \n",
       "\n",
       "                                                                              \\\n",
       "down                                                                           \n",
       "shotgun                                                  1                     \n",
       "rusher                                   K.Drake C.Edmonds K.Drake  K.Murray   \n",
       "posteam play_type run_location run_gap                                         \n",
       "ARI     run       left         end     -1.102878 -0.511438   -0.26  0.418723   \n",
       "                               guard    -0.07905 -0.690545   -0.25 -0.144816   \n",
       "                               tackle  -0.295192  -0.08845   -0.37  1.126694   \n",
       "                  right        end      0.228174 -0.324561   -0.00   0.19556   \n",
       "                               guard           -         -   -0.03         -   \n",
       "                               tackle   0.083237         -    0.07  1.056841   \n",
       "\n",
       "                                                                       ...  \\\n",
       "down                                         2.0                       ...   \n",
       "shotgun                                        0                    1  ...   \n",
       "rusher                                 C.Edmonds   K.Drake A.Isabella  ...   \n",
       "posteam play_type run_location run_gap                                 ...   \n",
       "ARI     run       left         end      -0.19253         -          -  ...   \n",
       "                               guard           -         -          -  ...   \n",
       "                               tackle          -         -          -  ...   \n",
       "                  right        end             -         -  -1.803249  ...   \n",
       "                               guard           - -1.128754          -  ...   \n",
       "                               tackle          -         -          -  ...   \n",
       "\n",
       "                                       yards_gained                    \\\n",
       "down                                            1.0       2.0           \n",
       "shotgun                                           1         0           \n",
       "rusher                                     K.Murray C.Edmonds K.Drake   \n",
       "posteam play_type run_location run_gap                                  \n",
       "ARI     run       left         end         8.333333       3.0       -   \n",
       "                               guard            3.0         -       -   \n",
       "                               tackle           8.0         -       -   \n",
       "                  right        end         6.166667         -       -   \n",
       "                               guard              -         -    -1.0   \n",
       "                               tackle           8.5         -       -   \n",
       "\n",
       "                                                                               \\\n",
       "down                                                                            \n",
       "shotgun                                         1                               \n",
       "rusher                                 A.Isabella C.Edmonds K.Drake  K.Murray   \n",
       "posteam play_type run_location run_gap                                          \n",
       "ARI     run       left         end              -       0.5    1.00       3.0   \n",
       "                               guard            -         -    1.00         -   \n",
       "                               tackle           -       4.0    3.83       4.5   \n",
       "                  right        end           -6.0         -    0.67  4.333333   \n",
       "                               guard            -         -    3.00         -   \n",
       "                               tackle           -         -    0.50         -   \n",
       "\n",
       "                                                                   \n",
       "down                                         3.0                   \n",
       "shotgun                                        1                   \n",
       "rusher                                 C.Edmonds K.Drake K.Murray  \n",
       "posteam play_type run_location run_gap                             \n",
       "ARI     run       left         end          -0.5       -      2.0  \n",
       "                               guard           -     0.0        -  \n",
       "                               tackle        4.0       -        -  \n",
       "                  right        end             -       -     11.0  \n",
       "                               guard        29.0       -        -  \n",
       "                               tackle          -       -        -  \n",
       "\n",
       "[6 rows x 32 columns]"
      ],
      "text/html": "<div>\n<style scoped>\n    .dataframe tbody tr th:only-of-type {\n        vertical-align: middle;\n    }\n\n    .dataframe tbody tr th {\n        vertical-align: top;\n    }\n\n    .dataframe thead tr th {\n        text-align: left;\n    }\n\n    .dataframe thead tr:last-of-type th {\n        text-align: right;\n    }\n</style>\n<table border=\"1\" class=\"dataframe\">\n  <thead>\n    <tr>\n      <th></th>\n      <th></th>\n      <th></th>\n      <th></th>\n      <th colspan=\"10\" halign=\"left\">epa</th>\n      <th>...</th>\n      <th colspan=\"10\" halign=\"left\">yards_gained</th>\n    </tr>\n    <tr>\n      <th></th>\n      <th></th>\n      <th></th>\n      <th>down</th>\n      <th colspan=\"7\" halign=\"left\">1.0</th>\n      <th colspan=\"3\" halign=\"left\">2.0</th>\n      <th>...</th>\n      <th>1.0</th>\n      <th colspan=\"6\" halign=\"left\">2.0</th>\n      <th colspan=\"3\" halign=\"left\">3.0</th>\n    </tr>\n    <tr>\n      <th></th>\n      <th></th>\n      <th></th>\n      <th>shotgun</th>\n      <th colspan=\"4\" halign=\"left\">0</th>\n      <th colspan=\"3\" halign=\"left\">1</th>\n      <th colspan=\"2\" halign=\"left\">0</th>\n      <th>1</th>\n      <th>...</th>\n      <th>1</th>\n      <th colspan=\"2\" halign=\"left\">0</th>\n      <th colspan=\"4\" halign=\"left\">1</th>\n      <th colspan=\"3\" halign=\"left\">1</th>\n    </tr>\n    <tr>\n      <th></th>\n      <th></th>\n      <th></th>\n      <th>rusher</th>\n      <th>C.Edmonds</th>\n      <th>C.Kirk</th>\n      <th>D.Hopkins</th>\n      <th>K.Drake</th>\n      <th>C.Edmonds</th>\n      <th>K.Drake</th>\n      <th>K.Murray</th>\n      <th>C.Edmonds</th>\n      <th>K.Drake</th>\n      <th>A.Isabella</th>\n      <th>...</th>\n      <th>K.Murray</th>\n      <th>C.Edmonds</th>\n      <th>K.Drake</th>\n      <th>A.Isabella</th>\n      <th>C.Edmonds</th>\n      <th>K.Drake</th>\n      <th>K.Murray</th>\n      <th>C.Edmonds</th>\n      <th>K.Drake</th>\n      <th>K.Murray</th>\n    </tr>\n    <tr>\n      <th>posteam</th>\n      <th>play_type</th>\n      <th>run_location</th>\n      <th>run_gap</th>\n      <th></th>\n      <th></th>\n      <th></th>\n      <th></th>\n      <th></th>\n      <th></th>\n      <th></th>\n      <th></th>\n      <th></th>\n      <th></th>\n      <th></th>\n      <th></th>\n      <th></th>\n      <th></th>\n      <th></th>\n      <th></th>\n      <th></th>\n      <th></th>\n      <th></th>\n      <th></th>\n      <th></th>\n    </tr>\n  </thead>\n  <tbody>\n    <tr>\n      <th rowspan=\"6\" valign=\"top\">ARI</th>\n      <th rowspan=\"6\" valign=\"top\">run</th>\n      <th rowspan=\"3\" valign=\"top\">left</th>\n      <th>end</th>\n      <td>-0.32207</td>\n      <td>-</td>\n      <td>0.993359</td>\n      <td>-1.102878</td>\n      <td>-0.511438</td>\n      <td>-0.26</td>\n      <td>0.418723</td>\n      <td>-0.19253</td>\n      <td>-</td>\n      <td>-</td>\n      <td>...</td>\n      <td>8.333333</td>\n      <td>3.0</td>\n      <td>-</td>\n      <td>-</td>\n      <td>0.5</td>\n      <td>1.00</td>\n      <td>3.0</td>\n      <td>-0.5</td>\n      <td>-</td>\n      <td>2.0</td>\n    </tr>\n    <tr>\n      <th>guard</th>\n      <td>-0.269558</td>\n      <td>-</td>\n      <td>-</td>\n      <td>-0.07905</td>\n      <td>-0.690545</td>\n      <td>-0.25</td>\n      <td>-0.144816</td>\n      <td>-</td>\n      <td>-</td>\n      <td>-</td>\n      <td>...</td>\n      <td>3.0</td>\n      <td>-</td>\n      <td>-</td>\n      <td>-</td>\n      <td>-</td>\n      <td>1.00</td>\n      <td>-</td>\n      <td>-</td>\n      <td>0.0</td>\n      <td>-</td>\n    </tr>\n    <tr>\n      <th>tackle</th>\n      <td>-</td>\n      <td>-</td>\n      <td>-</td>\n      <td>-0.295192</td>\n      <td>-0.08845</td>\n      <td>-0.37</td>\n      <td>1.126694</td>\n      <td>-</td>\n      <td>-</td>\n      <td>-</td>\n      <td>...</td>\n      <td>8.0</td>\n      <td>-</td>\n      <td>-</td>\n      <td>-</td>\n      <td>4.0</td>\n      <td>3.83</td>\n      <td>4.5</td>\n      <td>4.0</td>\n      <td>-</td>\n      <td>-</td>\n    </tr>\n    <tr>\n      <th rowspan=\"3\" valign=\"top\">right</th>\n      <th>end</th>\n      <td>-</td>\n      <td>-0.537777</td>\n      <td>-</td>\n      <td>0.228174</td>\n      <td>-0.324561</td>\n      <td>-0.00</td>\n      <td>0.19556</td>\n      <td>-</td>\n      <td>-</td>\n      <td>-1.803249</td>\n      <td>...</td>\n      <td>6.166667</td>\n      <td>-</td>\n      <td>-</td>\n      <td>-6.0</td>\n      <td>-</td>\n      <td>0.67</td>\n      <td>4.333333</td>\n      <td>-</td>\n      <td>-</td>\n      <td>11.0</td>\n    </tr>\n    <tr>\n      <th>guard</th>\n      <td>-</td>\n      <td>-</td>\n      <td>-</td>\n      <td>-</td>\n      <td>-</td>\n      <td>-0.03</td>\n      <td>-</td>\n      <td>-</td>\n      <td>-1.128754</td>\n      <td>-</td>\n      <td>...</td>\n      <td>-</td>\n      <td>-</td>\n      <td>-1.0</td>\n      <td>-</td>\n      <td>-</td>\n      <td>3.00</td>\n      <td>-</td>\n      <td>29.0</td>\n      <td>-</td>\n      <td>-</td>\n    </tr>\n    <tr>\n      <th>tackle</th>\n      <td>-0.789454</td>\n      <td>-</td>\n      <td>-</td>\n      <td>0.083237</td>\n      <td>-</td>\n      <td>0.07</td>\n      <td>1.056841</td>\n      <td>-</td>\n      <td>-</td>\n      <td>-</td>\n      <td>...</td>\n      <td>8.5</td>\n      <td>-</td>\n      <td>-</td>\n      <td>-</td>\n      <td>-</td>\n      <td>0.50</td>\n      <td>-</td>\n      <td>-</td>\n      <td>-</td>\n      <td>-</td>\n    </tr>\n  </tbody>\n</table>\n<p>6 rows × 32 columns</p>\n</div>"
     },
     "metadata": {},
     "execution_count": 42
    }
   ],
   "source": [
    "## EPA BY DOWN & FORMATION\n",
    "\n",
    "\n",
    "def PlayEPA_ByTeam_Down_Player(DF, PlayType, Team):\n",
    " \n",
    "    PT = str(PlayType)\n",
    "\n",
    "\n",
    "    neutral_situation = pd.DataFrame(DF.query(\"down < 4 & half_seconds_remaining > 120 & wp > .2 & wp <.8\"))\n",
    "    Play_filter = neutral_situation[neutral_situation['play_type'] == PT]\n",
    "    Play_filter = Play_filter[neutral_situation['posteam'] == Team]\n",
    "\n",
    "    if PlayType == 'run':\n",
    "        Tab = pd.pivot_table(Play_filter, index= ['posteam','play_type', 'run_location', 'run_gap'], columns = ['down', 'shotgun', 'rusher'], values = ['epa', 'yards_gained' ], aggfunc='mean', fill_value = '-')\n",
    "    elif PlayType == 'pass':\n",
    "        Tab = pd.pivot_table(Play_filter, index= ['posteam','play_type', 'pass_location', 'pass_length'], columns = ['down', 'shotgun'], values = ['epa', 'yards_gained', 'air_yards'], aggfunc='mean', fill_value = '-')\n",
    "    else:\n",
    "        print(\"invalid play type\")\n",
    "\n",
    "\n",
    "    return round(Tab,2)\n",
    "\n",
    "PlayEPA_ByTeam_Down_Player(data_2020,'run',Team)"
   ]
  },
  {
   "cell_type": "code",
   "execution_count": 44,
   "metadata": {},
   "outputs": [
    {
     "output_type": "stream",
     "name": "stderr",
     "text": [
      "<ipython-input-44-b581123d55ae>:11: UserWarning: Boolean Series key will be reindexed to match DataFrame index.\n  Play_filter = Play_filter[neutral_situation['posteam'] == Team]\n"
     ]
    },
    {
     "output_type": "execute_result",
     "data": {
      "text/plain": [
       "pass_location       left        middle         right       \n",
       "pass_length         deep  short   deep  short   deep  short\n",
       "down receiver                                              \n",
       "1.0  A.Isabella     12.5   25.0   12.5   12.5    0.0   37.5\n",
       "     C.Edmonds       0.0   77.8    0.0   11.1    0.0   11.1\n",
       "     C.Kirk          0.0    8.3    0.0    0.0   25.0   66.7\n",
       "     D.Arnold       10.0   10.0   10.0   20.0   30.0   20.0\n",
       "     D.Daniels       0.0   33.3    0.0   16.7    0.0   50.0\n",
       "     D.Hopkins       8.3   63.9    2.8   11.1    5.6    8.3\n",
       "     K.Drake         0.0   58.3    0.0    8.3    0.0   33.3\n",
       "     L.Fitzgerald    0.0    7.7   15.4   38.5    0.0   38.5\n",
       "     M.Williams      0.0   50.0    0.0    0.0    0.0   50.0\n",
       "     S.DeValve     100.0    0.0    0.0    0.0    0.0    0.0\n",
       "     T.Sherfield     0.0  100.0    0.0    0.0    0.0    0.0\n",
       "2.0  A.Isabella      0.0   37.5    0.0   25.0    0.0   37.5\n",
       "     C.Edmonds       0.0   31.2    0.0   25.0    6.2   37.5\n",
       "     C.Kirk          0.0   13.3    0.0   13.3   26.7   46.7\n",
       "     D.Arnold       16.7   25.0    8.3    8.3    8.3   33.3\n",
       "     D.Daniels       0.0    0.0    0.0    0.0  100.0    0.0\n",
       "     D.Foster        0.0  100.0    0.0    0.0    0.0    0.0\n",
       "     D.Hopkins      10.3   65.5    0.0   17.2    0.0    6.9\n",
       "     J.Ward          0.0    0.0    0.0  100.0    0.0    0.0\n",
       "     K.Drake         0.0   25.0    0.0   25.0    0.0   50.0\n",
       "     K.Johnson       0.0   14.3    0.0   14.3   14.3   57.1\n",
       "     L.Fitzgerald    0.0   42.9    0.0   21.4    7.1   28.6\n",
       "     M.Williams     25.0   75.0    0.0    0.0    0.0    0.0\n",
       "3.0  A.Isabella     14.3    0.0   14.3   14.3   42.9   14.3\n",
       "     C.Edmonds       0.0   45.5    0.0   18.2    0.0   36.4\n",
       "     C.Kirk          8.3    0.0    8.3   16.7   33.3   33.3\n",
       "     D.Arnold        0.0    0.0   28.6   57.1    0.0   14.3\n",
       "     D.Daniels       0.0    0.0    0.0    0.0    0.0  100.0\n",
       "     D.Hopkins      14.3   60.7    3.6   10.7    0.0   10.7\n",
       "     K.Drake         0.0    0.0    0.0    0.0    0.0  100.0\n",
       "     K.Johnson       0.0   25.0   25.0    0.0   25.0   25.0\n",
       "     L.Fitzgerald    7.7   53.8    0.0   15.4    0.0   23.1\n",
       "     T.Sherfield     0.0  100.0    0.0    0.0    0.0    0.0"
      ],
      "text/html": "<div>\n<style scoped>\n    .dataframe tbody tr th:only-of-type {\n        vertical-align: middle;\n    }\n\n    .dataframe tbody tr th {\n        vertical-align: top;\n    }\n\n    .dataframe thead tr th {\n        text-align: left;\n    }\n\n    .dataframe thead tr:last-of-type th {\n        text-align: right;\n    }\n</style>\n<table border=\"1\" class=\"dataframe\">\n  <thead>\n    <tr>\n      <th></th>\n      <th>pass_location</th>\n      <th colspan=\"2\" halign=\"left\">left</th>\n      <th colspan=\"2\" halign=\"left\">middle</th>\n      <th colspan=\"2\" halign=\"left\">right</th>\n    </tr>\n    <tr>\n      <th></th>\n      <th>pass_length</th>\n      <th>deep</th>\n      <th>short</th>\n      <th>deep</th>\n      <th>short</th>\n      <th>deep</th>\n      <th>short</th>\n    </tr>\n    <tr>\n      <th>down</th>\n      <th>receiver</th>\n      <th></th>\n      <th></th>\n      <th></th>\n      <th></th>\n      <th></th>\n      <th></th>\n    </tr>\n  </thead>\n  <tbody>\n    <tr>\n      <th rowspan=\"11\" valign=\"top\">1.0</th>\n      <th>A.Isabella</th>\n      <td>12.5</td>\n      <td>25.0</td>\n      <td>12.5</td>\n      <td>12.5</td>\n      <td>0.0</td>\n      <td>37.5</td>\n    </tr>\n    <tr>\n      <th>C.Edmonds</th>\n      <td>0.0</td>\n      <td>77.8</td>\n      <td>0.0</td>\n      <td>11.1</td>\n      <td>0.0</td>\n      <td>11.1</td>\n    </tr>\n    <tr>\n      <th>C.Kirk</th>\n      <td>0.0</td>\n      <td>8.3</td>\n      <td>0.0</td>\n      <td>0.0</td>\n      <td>25.0</td>\n      <td>66.7</td>\n    </tr>\n    <tr>\n      <th>D.Arnold</th>\n      <td>10.0</td>\n      <td>10.0</td>\n      <td>10.0</td>\n      <td>20.0</td>\n      <td>30.0</td>\n      <td>20.0</td>\n    </tr>\n    <tr>\n      <th>D.Daniels</th>\n      <td>0.0</td>\n      <td>33.3</td>\n      <td>0.0</td>\n      <td>16.7</td>\n      <td>0.0</td>\n      <td>50.0</td>\n    </tr>\n    <tr>\n      <th>D.Hopkins</th>\n      <td>8.3</td>\n      <td>63.9</td>\n      <td>2.8</td>\n      <td>11.1</td>\n      <td>5.6</td>\n      <td>8.3</td>\n    </tr>\n    <tr>\n      <th>K.Drake</th>\n      <td>0.0</td>\n      <td>58.3</td>\n      <td>0.0</td>\n      <td>8.3</td>\n      <td>0.0</td>\n      <td>33.3</td>\n    </tr>\n    <tr>\n      <th>L.Fitzgerald</th>\n      <td>0.0</td>\n      <td>7.7</td>\n      <td>15.4</td>\n      <td>38.5</td>\n      <td>0.0</td>\n      <td>38.5</td>\n    </tr>\n    <tr>\n      <th>M.Williams</th>\n      <td>0.0</td>\n      <td>50.0</td>\n      <td>0.0</td>\n      <td>0.0</td>\n      <td>0.0</td>\n      <td>50.0</td>\n    </tr>\n    <tr>\n      <th>S.DeValve</th>\n      <td>100.0</td>\n      <td>0.0</td>\n      <td>0.0</td>\n      <td>0.0</td>\n      <td>0.0</td>\n      <td>0.0</td>\n    </tr>\n    <tr>\n      <th>T.Sherfield</th>\n      <td>0.0</td>\n      <td>100.0</td>\n      <td>0.0</td>\n      <td>0.0</td>\n      <td>0.0</td>\n      <td>0.0</td>\n    </tr>\n    <tr>\n      <th rowspan=\"12\" valign=\"top\">2.0</th>\n      <th>A.Isabella</th>\n      <td>0.0</td>\n      <td>37.5</td>\n      <td>0.0</td>\n      <td>25.0</td>\n      <td>0.0</td>\n      <td>37.5</td>\n    </tr>\n    <tr>\n      <th>C.Edmonds</th>\n      <td>0.0</td>\n      <td>31.2</td>\n      <td>0.0</td>\n      <td>25.0</td>\n      <td>6.2</td>\n      <td>37.5</td>\n    </tr>\n    <tr>\n      <th>C.Kirk</th>\n      <td>0.0</td>\n      <td>13.3</td>\n      <td>0.0</td>\n      <td>13.3</td>\n      <td>26.7</td>\n      <td>46.7</td>\n    </tr>\n    <tr>\n      <th>D.Arnold</th>\n      <td>16.7</td>\n      <td>25.0</td>\n      <td>8.3</td>\n      <td>8.3</td>\n      <td>8.3</td>\n      <td>33.3</td>\n    </tr>\n    <tr>\n      <th>D.Daniels</th>\n      <td>0.0</td>\n      <td>0.0</td>\n      <td>0.0</td>\n      <td>0.0</td>\n      <td>100.0</td>\n      <td>0.0</td>\n    </tr>\n    <tr>\n      <th>D.Foster</th>\n      <td>0.0</td>\n      <td>100.0</td>\n      <td>0.0</td>\n      <td>0.0</td>\n      <td>0.0</td>\n      <td>0.0</td>\n    </tr>\n    <tr>\n      <th>D.Hopkins</th>\n      <td>10.3</td>\n      <td>65.5</td>\n      <td>0.0</td>\n      <td>17.2</td>\n      <td>0.0</td>\n      <td>6.9</td>\n    </tr>\n    <tr>\n      <th>J.Ward</th>\n      <td>0.0</td>\n      <td>0.0</td>\n      <td>0.0</td>\n      <td>100.0</td>\n      <td>0.0</td>\n      <td>0.0</td>\n    </tr>\n    <tr>\n      <th>K.Drake</th>\n      <td>0.0</td>\n      <td>25.0</td>\n      <td>0.0</td>\n      <td>25.0</td>\n      <td>0.0</td>\n      <td>50.0</td>\n    </tr>\n    <tr>\n      <th>K.Johnson</th>\n      <td>0.0</td>\n      <td>14.3</td>\n      <td>0.0</td>\n      <td>14.3</td>\n      <td>14.3</td>\n      <td>57.1</td>\n    </tr>\n    <tr>\n      <th>L.Fitzgerald</th>\n      <td>0.0</td>\n      <td>42.9</td>\n      <td>0.0</td>\n      <td>21.4</td>\n      <td>7.1</td>\n      <td>28.6</td>\n    </tr>\n    <tr>\n      <th>M.Williams</th>\n      <td>25.0</td>\n      <td>75.0</td>\n      <td>0.0</td>\n      <td>0.0</td>\n      <td>0.0</td>\n      <td>0.0</td>\n    </tr>\n    <tr>\n      <th rowspan=\"10\" valign=\"top\">3.0</th>\n      <th>A.Isabella</th>\n      <td>14.3</td>\n      <td>0.0</td>\n      <td>14.3</td>\n      <td>14.3</td>\n      <td>42.9</td>\n      <td>14.3</td>\n    </tr>\n    <tr>\n      <th>C.Edmonds</th>\n      <td>0.0</td>\n      <td>45.5</td>\n      <td>0.0</td>\n      <td>18.2</td>\n      <td>0.0</td>\n      <td>36.4</td>\n    </tr>\n    <tr>\n      <th>C.Kirk</th>\n      <td>8.3</td>\n      <td>0.0</td>\n      <td>8.3</td>\n      <td>16.7</td>\n      <td>33.3</td>\n      <td>33.3</td>\n    </tr>\n    <tr>\n      <th>D.Arnold</th>\n      <td>0.0</td>\n      <td>0.0</td>\n      <td>28.6</td>\n      <td>57.1</td>\n      <td>0.0</td>\n      <td>14.3</td>\n    </tr>\n    <tr>\n      <th>D.Daniels</th>\n      <td>0.0</td>\n      <td>0.0</td>\n      <td>0.0</td>\n      <td>0.0</td>\n      <td>0.0</td>\n      <td>100.0</td>\n    </tr>\n    <tr>\n      <th>D.Hopkins</th>\n      <td>14.3</td>\n      <td>60.7</td>\n      <td>3.6</td>\n      <td>10.7</td>\n      <td>0.0</td>\n      <td>10.7</td>\n    </tr>\n    <tr>\n      <th>K.Drake</th>\n      <td>0.0</td>\n      <td>0.0</td>\n      <td>0.0</td>\n      <td>0.0</td>\n      <td>0.0</td>\n      <td>100.0</td>\n    </tr>\n    <tr>\n      <th>K.Johnson</th>\n      <td>0.0</td>\n      <td>25.0</td>\n      <td>25.0</td>\n      <td>0.0</td>\n      <td>25.0</td>\n      <td>25.0</td>\n    </tr>\n    <tr>\n      <th>L.Fitzgerald</th>\n      <td>7.7</td>\n      <td>53.8</td>\n      <td>0.0</td>\n      <td>15.4</td>\n      <td>0.0</td>\n      <td>23.1</td>\n    </tr>\n    <tr>\n      <th>T.Sherfield</th>\n      <td>0.0</td>\n      <td>100.0</td>\n      <td>0.0</td>\n      <td>0.0</td>\n      <td>0.0</td>\n      <td>0.0</td>\n    </tr>\n  </tbody>\n</table>\n</div>"
     },
     "metadata": {},
     "execution_count": 44
    }
   ],
   "source": [
    "# PLAYER PLAY-TYPE FREQUENCY\n",
    "\n",
    "\n",
    "def PlayFreqType_ByTeam_Down_Player(DF,PlayType,Team):\n",
    " \n",
    "  \n",
    "\n",
    "\n",
    "    neutral_situation = pd.DataFrame(DF.query(\"down < 4 & half_seconds_remaining > 120 & wp > .2 & wp <.8\"))\n",
    "    Play_filter = neutral_situation[(neutral_situation['play_type'] == PlayType)]\n",
    "    Play_filter = Play_filter[neutral_situation['posteam'] == Team]\n",
    "\n",
    "    if PlayType == 'run':\n",
    "        Tab = pd.crosstab([Play_filter.posteam,Play_filter.down,Play_filter.rusher], columns= [Play_filter.run_location,Play_filter.run_gap] ,values = Play_filter.play_id, aggfunc='count', normalize='index')\n",
    "    elif PlayType == 'pass':\n",
    "        Tab = pd.crosstab([Play_filter.down, Play_filter.receiver], columns= [Play_filter.pass_location,Play_filter.pass_length] ,values = Play_filter.play_id, aggfunc='count', normalize='index')\n",
    "    else: \n",
    "        print(\"invalid play type\")\n",
    "\n",
    "\n",
    "\n",
    "    return round(Tab*100,1)\n",
    "\n",
    "PlayFreqType_ByTeam_Down_Player(data_2020,'pass',Team)"
   ]
  },
  {
   "cell_type": "code",
   "execution_count": 38,
   "metadata": {},
   "outputs": [
    {
     "output_type": "stream",
     "name": "stderr",
     "text": [
      "<ipython-input-38-4543b362800b>:11: UserWarning: Boolean Series key will be reindexed to match DataFrame index.\n  Play_filter = Play_filter[neutral_situation['posteam'] == Team]\n"
     ]
    },
    {
     "output_type": "execute_result",
     "data": {
      "text/plain": [
       "                                             epa                      \\\n",
       "down                                         2.0                       \n",
       "ydstogo                                       1         2         3    \n",
       "posteam play_type run_location run_gap                                 \n",
       "ARI     run       left         end             -         -         -   \n",
       "                               guard    0.908253         -         -   \n",
       "                               tackle          - -0.084223 -0.628724   \n",
       "                  right        end      0.634207         - -0.985645   \n",
       "                               guard           -         -         -   \n",
       "                               tackle  -0.308406         - -0.621373   \n",
       "\n",
       "                                                                      \\\n",
       "down                                                                   \n",
       "ydstogo                                       4         5         6    \n",
       "posteam play_type run_location run_gap                                 \n",
       "ARI     run       left         end     -1.078519  0.735897 -0.258004   \n",
       "                               guard           -         -         -   \n",
       "                               tackle   0.579134         - -0.040742   \n",
       "                  right        end             - -0.823231         -   \n",
       "                               guard   -0.044768 -0.413207         -   \n",
       "                               tackle  -0.406245         -         -   \n",
       "\n",
       "                                                                      \\\n",
       "down                                                                   \n",
       "ydstogo                                       7         8         9    \n",
       "posteam play_type run_location run_gap                                 \n",
       "ARI     run       left         end             -         -         -   \n",
       "                               guard           -         -         -   \n",
       "                               tackle          -         -  1.491718   \n",
       "                  right        end      1.156694 -0.846141 -1.803249   \n",
       "                               guard           -         - -0.357301   \n",
       "                               tackle          -  3.072247         -   \n",
       "\n",
       "                                                  ... yards_gained             \\\n",
       "down                                              ...          3.0              \n",
       "ydstogo                                       10  ...           4     5    6    \n",
       "posteam play_type run_location run_gap            ...                           \n",
       "ARI     run       left         end     -0.471834  ...          3.0     -    -   \n",
       "                               guard           -  ...            -     -    -   \n",
       "                               tackle  -0.661897  ...            -     -    -   \n",
       "                  right        end     -0.525003  ...            -  13.0  1.0   \n",
       "                               guard   -1.128754  ...            -     -    -   \n",
       "                               tackle  -1.410267  ...            -     -    -   \n",
       "\n",
       "                                                                              \n",
       "down                                                                          \n",
       "ydstogo                                  8     9     10   11   14    17   22  \n",
       "posteam play_type run_location run_gap                                        \n",
       "ARI     run       left         end        -  10.0  10.0    -    -  25.0  0.0  \n",
       "                               guard      -     -     -  9.0    -     -    -  \n",
       "                               tackle     -     -     -    -    -     -    -  \n",
       "                  right        end      9.0     -   1.0    -  6.0     -    -  \n",
       "                               guard      -     -     -    -    -     -    -  \n",
       "                               tackle     -     -     -    -    -     -    -  \n",
       "\n",
       "[6 rows x 54 columns]"
      ],
      "text/html": "<div>\n<style scoped>\n    .dataframe tbody tr th:only-of-type {\n        vertical-align: middle;\n    }\n\n    .dataframe tbody tr th {\n        vertical-align: top;\n    }\n\n    .dataframe thead tr th {\n        text-align: left;\n    }\n\n    .dataframe thead tr:last-of-type th {\n        text-align: right;\n    }\n</style>\n<table border=\"1\" class=\"dataframe\">\n  <thead>\n    <tr>\n      <th></th>\n      <th></th>\n      <th></th>\n      <th></th>\n      <th colspan=\"10\" halign=\"left\">epa</th>\n      <th>...</th>\n      <th colspan=\"10\" halign=\"left\">yards_gained</th>\n    </tr>\n    <tr>\n      <th></th>\n      <th></th>\n      <th></th>\n      <th>down</th>\n      <th colspan=\"10\" halign=\"left\">2.0</th>\n      <th>...</th>\n      <th colspan=\"10\" halign=\"left\">3.0</th>\n    </tr>\n    <tr>\n      <th></th>\n      <th></th>\n      <th></th>\n      <th>ydstogo</th>\n      <th>1</th>\n      <th>2</th>\n      <th>3</th>\n      <th>4</th>\n      <th>5</th>\n      <th>6</th>\n      <th>7</th>\n      <th>8</th>\n      <th>9</th>\n      <th>10</th>\n      <th>...</th>\n      <th>4</th>\n      <th>5</th>\n      <th>6</th>\n      <th>8</th>\n      <th>9</th>\n      <th>10</th>\n      <th>11</th>\n      <th>14</th>\n      <th>17</th>\n      <th>22</th>\n    </tr>\n    <tr>\n      <th>posteam</th>\n      <th>play_type</th>\n      <th>run_location</th>\n      <th>run_gap</th>\n      <th></th>\n      <th></th>\n      <th></th>\n      <th></th>\n      <th></th>\n      <th></th>\n      <th></th>\n      <th></th>\n      <th></th>\n      <th></th>\n      <th></th>\n      <th></th>\n      <th></th>\n      <th></th>\n      <th></th>\n      <th></th>\n      <th></th>\n      <th></th>\n      <th></th>\n      <th></th>\n      <th></th>\n    </tr>\n  </thead>\n  <tbody>\n    <tr>\n      <th rowspan=\"6\" valign=\"top\">ARI</th>\n      <th rowspan=\"6\" valign=\"top\">run</th>\n      <th rowspan=\"3\" valign=\"top\">left</th>\n      <th>end</th>\n      <td>-</td>\n      <td>-</td>\n      <td>-</td>\n      <td>-1.078519</td>\n      <td>0.735897</td>\n      <td>-0.258004</td>\n      <td>-</td>\n      <td>-</td>\n      <td>-</td>\n      <td>-0.471834</td>\n      <td>...</td>\n      <td>3.0</td>\n      <td>-</td>\n      <td>-</td>\n      <td>-</td>\n      <td>10.0</td>\n      <td>10.0</td>\n      <td>-</td>\n      <td>-</td>\n      <td>25.0</td>\n      <td>0.0</td>\n    </tr>\n    <tr>\n      <th>guard</th>\n      <td>0.908253</td>\n      <td>-</td>\n      <td>-</td>\n      <td>-</td>\n      <td>-</td>\n      <td>-</td>\n      <td>-</td>\n      <td>-</td>\n      <td>-</td>\n      <td>-</td>\n      <td>...</td>\n      <td>-</td>\n      <td>-</td>\n      <td>-</td>\n      <td>-</td>\n      <td>-</td>\n      <td>-</td>\n      <td>9.0</td>\n      <td>-</td>\n      <td>-</td>\n      <td>-</td>\n    </tr>\n    <tr>\n      <th>tackle</th>\n      <td>-</td>\n      <td>-0.084223</td>\n      <td>-0.628724</td>\n      <td>0.579134</td>\n      <td>-</td>\n      <td>-0.040742</td>\n      <td>-</td>\n      <td>-</td>\n      <td>1.491718</td>\n      <td>-0.661897</td>\n      <td>...</td>\n      <td>-</td>\n      <td>-</td>\n      <td>-</td>\n      <td>-</td>\n      <td>-</td>\n      <td>-</td>\n      <td>-</td>\n      <td>-</td>\n      <td>-</td>\n      <td>-</td>\n    </tr>\n    <tr>\n      <th rowspan=\"3\" valign=\"top\">right</th>\n      <th>end</th>\n      <td>0.634207</td>\n      <td>-</td>\n      <td>-0.985645</td>\n      <td>-</td>\n      <td>-0.823231</td>\n      <td>-</td>\n      <td>1.156694</td>\n      <td>-0.846141</td>\n      <td>-1.803249</td>\n      <td>-0.525003</td>\n      <td>...</td>\n      <td>-</td>\n      <td>13.0</td>\n      <td>1.0</td>\n      <td>9.0</td>\n      <td>-</td>\n      <td>1.0</td>\n      <td>-</td>\n      <td>6.0</td>\n      <td>-</td>\n      <td>-</td>\n    </tr>\n    <tr>\n      <th>guard</th>\n      <td>-</td>\n      <td>-</td>\n      <td>-</td>\n      <td>-0.044768</td>\n      <td>-0.413207</td>\n      <td>-</td>\n      <td>-</td>\n      <td>-</td>\n      <td>-0.357301</td>\n      <td>-1.128754</td>\n      <td>...</td>\n      <td>-</td>\n      <td>-</td>\n      <td>-</td>\n      <td>-</td>\n      <td>-</td>\n      <td>-</td>\n      <td>-</td>\n      <td>-</td>\n      <td>-</td>\n      <td>-</td>\n    </tr>\n    <tr>\n      <th>tackle</th>\n      <td>-0.308406</td>\n      <td>-</td>\n      <td>-0.621373</td>\n      <td>-0.406245</td>\n      <td>-</td>\n      <td>-</td>\n      <td>-</td>\n      <td>3.072247</td>\n      <td>-</td>\n      <td>-1.410267</td>\n      <td>...</td>\n      <td>-</td>\n      <td>-</td>\n      <td>-</td>\n      <td>-</td>\n      <td>-</td>\n      <td>-</td>\n      <td>-</td>\n      <td>-</td>\n      <td>-</td>\n      <td>-</td>\n    </tr>\n  </tbody>\n</table>\n<p>6 rows × 54 columns</p>\n</div>"
     },
     "metadata": {},
     "execution_count": 38
    }
   ],
   "source": [
    "## EPA BY DOWN & FORMATION & Distance\n",
    "\n",
    "\n",
    "def PlayEPA_ByTeam_Down_Distance(DF, PlayType, Team):\n",
    " \n",
    "    PT = str(PlayType)\n",
    "\n",
    "\n",
    "    neutral_situation = pd.DataFrame(DF.query(\"down < 4 & half_seconds_remaining > 120 & wp > .2 & wp <.8 & down > 1\"))\n",
    "    Play_filter = neutral_situation[neutral_situation['play_type'] == PT]\n",
    "    Play_filter = Play_filter[neutral_situation['posteam'] == Team]\n",
    "\n",
    "    if PlayType == 'run':\n",
    "        Tab = pd.pivot_table(Play_filter, index= ['posteam','play_type', 'run_location', 'run_gap'], columns = ['down', 'ydstogo'], values = ['epa', 'yards_gained' ],fill_value = '-')\n",
    "    elif PlayType == 'pass':\n",
    "        Tab = pd.pivot_table(Play_filter, index= ['posteam','play_type', 'pass_location', 'pass_length'], columns = ['shotgun', 'down'], values = ['epa', 'yards_gained', 'air_yards'],fill_value = '-')\n",
    "    else:\n",
    "        print(\"invalid play type\")\n",
    "\n",
    "    Final_df = pd.DataFrame(Tab)\n",
    "\n",
    "    return round(Final_df,2)\n",
    "\n",
    "PlayEPA_ByTeam_Down_Distance(data_2020,'run',Team)"
   ]
  },
  {
   "cell_type": "code",
   "execution_count": 39,
   "metadata": {},
   "outputs": [
    {
     "output_type": "stream",
     "name": "stderr",
     "text": [
      "<ipython-input-39-5023a5d5abdd>:10: UserWarning: Boolean Series key will be reindexed to match DataFrame index.\n  Play_filter = Play_filter[neutral_situation['posteam'] == Team]\n"
     ]
    },
    {
     "output_type": "execute_result",
     "data": {
      "text/plain": [
       "shotgun                                          0                            \\\n",
       "down                                           1.0         2.0           3.0   \n",
       "ydstogo                                         5     10    6      10     1    \n",
       "posteam play_type pass_location pass_length                                    \n",
       "ARI     pass      left          deep         100.0   9.1   0.0    0.0    0.0   \n",
       "                                short          0.0  36.4   0.0    0.0    0.0   \n",
       "                  middle        deep           0.0   0.0   0.0    0.0    0.0   \n",
       "                                short          0.0   9.1  50.0    0.0    0.0   \n",
       "                  right         deep           0.0   9.1  50.0    0.0    0.0   \n",
       "                                short          0.0  36.4   0.0  100.0  100.0   \n",
       "\n",
       "shotgun                                         1                             \\\n",
       "down                                          1.0                              \n",
       "ydstogo                                        4      6      9     10     15   \n",
       "posteam play_type pass_location pass_length                                    \n",
       "ARI     pass      left          deep          0.0    0.0    0.0   4.3    0.0   \n",
       "                                short        33.3  100.0  100.0  42.6  100.0   \n",
       "                  middle        deep          0.0    0.0    0.0   5.3    0.0   \n",
       "                                short        33.3    0.0    0.0  13.8    0.0   \n",
       "                  right         deep          0.0    0.0    0.0   7.4    0.0   \n",
       "                                short        33.3    0.0    0.0  26.6    0.0   \n",
       "\n",
       "shotgun                                      ...                          \\\n",
       "down                                         ...   3.0                     \n",
       "ydstogo                                      ...    10    11    12    13   \n",
       "posteam play_type pass_location pass_length  ...                           \n",
       "ARI     pass      left          deep         ...  12.5   0.0   0.0   0.0   \n",
       "                                short        ...   0.0  40.0  50.0   0.0   \n",
       "                  middle        deep         ...  12.5   0.0  25.0  33.3   \n",
       "                                short        ...  25.0  40.0   0.0  33.3   \n",
       "                  right         deep         ...  12.5   0.0  25.0   0.0   \n",
       "                                short        ...  37.5  20.0   0.0  33.3   \n",
       "\n",
       "shotgun                                                                       \\\n",
       "down                                                                           \n",
       "ydstogo                                        14    15     16     17     18   \n",
       "posteam play_type pass_location pass_length                                    \n",
       "ARI     pass      left          deep          0.0   0.0    0.0    0.0    0.0   \n",
       "                                short        50.0  33.3  100.0    0.0  100.0   \n",
       "                  middle        deep          0.0   0.0    0.0    0.0    0.0   \n",
       "                                short         0.0   0.0    0.0  100.0    0.0   \n",
       "                  right         deep         50.0  33.3    0.0    0.0    0.0   \n",
       "                                short         0.0  33.3    0.0    0.0    0.0   \n",
       "\n",
       "shotgun                                             \n",
       "down                                                \n",
       "ydstogo                                         20  \n",
       "posteam play_type pass_location pass_length         \n",
       "ARI     pass      left          deep           0.0  \n",
       "                                short          0.0  \n",
       "                  middle        deep           0.0  \n",
       "                                short          0.0  \n",
       "                  right         deep           0.0  \n",
       "                                short        100.0  \n",
       "\n",
       "[6 rows x 48 columns]"
      ],
      "text/html": "<div>\n<style scoped>\n    .dataframe tbody tr th:only-of-type {\n        vertical-align: middle;\n    }\n\n    .dataframe tbody tr th {\n        vertical-align: top;\n    }\n\n    .dataframe thead tr th {\n        text-align: left;\n    }\n\n    .dataframe thead tr:last-of-type th {\n        text-align: right;\n    }\n</style>\n<table border=\"1\" class=\"dataframe\">\n  <thead>\n    <tr>\n      <th></th>\n      <th></th>\n      <th></th>\n      <th>shotgun</th>\n      <th colspan=\"5\" halign=\"left\">0</th>\n      <th colspan=\"16\" halign=\"left\">1</th>\n    </tr>\n    <tr>\n      <th></th>\n      <th></th>\n      <th></th>\n      <th>down</th>\n      <th colspan=\"2\" halign=\"left\">1.0</th>\n      <th colspan=\"2\" halign=\"left\">2.0</th>\n      <th>3.0</th>\n      <th colspan=\"5\" halign=\"left\">1.0</th>\n      <th>...</th>\n      <th colspan=\"10\" halign=\"left\">3.0</th>\n    </tr>\n    <tr>\n      <th></th>\n      <th></th>\n      <th></th>\n      <th>ydstogo</th>\n      <th>5</th>\n      <th>10</th>\n      <th>6</th>\n      <th>10</th>\n      <th>1</th>\n      <th>4</th>\n      <th>6</th>\n      <th>9</th>\n      <th>10</th>\n      <th>15</th>\n      <th>...</th>\n      <th>10</th>\n      <th>11</th>\n      <th>12</th>\n      <th>13</th>\n      <th>14</th>\n      <th>15</th>\n      <th>16</th>\n      <th>17</th>\n      <th>18</th>\n      <th>20</th>\n    </tr>\n    <tr>\n      <th>posteam</th>\n      <th>play_type</th>\n      <th>pass_location</th>\n      <th>pass_length</th>\n      <th></th>\n      <th></th>\n      <th></th>\n      <th></th>\n      <th></th>\n      <th></th>\n      <th></th>\n      <th></th>\n      <th></th>\n      <th></th>\n      <th></th>\n      <th></th>\n      <th></th>\n      <th></th>\n      <th></th>\n      <th></th>\n      <th></th>\n      <th></th>\n      <th></th>\n      <th></th>\n      <th></th>\n    </tr>\n  </thead>\n  <tbody>\n    <tr>\n      <th rowspan=\"6\" valign=\"top\">ARI</th>\n      <th rowspan=\"6\" valign=\"top\">pass</th>\n      <th rowspan=\"2\" valign=\"top\">left</th>\n      <th>deep</th>\n      <td>100.0</td>\n      <td>9.1</td>\n      <td>0.0</td>\n      <td>0.0</td>\n      <td>0.0</td>\n      <td>0.0</td>\n      <td>0.0</td>\n      <td>0.0</td>\n      <td>4.3</td>\n      <td>0.0</td>\n      <td>...</td>\n      <td>12.5</td>\n      <td>0.0</td>\n      <td>0.0</td>\n      <td>0.0</td>\n      <td>0.0</td>\n      <td>0.0</td>\n      <td>0.0</td>\n      <td>0.0</td>\n      <td>0.0</td>\n      <td>0.0</td>\n    </tr>\n    <tr>\n      <th>short</th>\n      <td>0.0</td>\n      <td>36.4</td>\n      <td>0.0</td>\n      <td>0.0</td>\n      <td>0.0</td>\n      <td>33.3</td>\n      <td>100.0</td>\n      <td>100.0</td>\n      <td>42.6</td>\n      <td>100.0</td>\n      <td>...</td>\n      <td>0.0</td>\n      <td>40.0</td>\n      <td>50.0</td>\n      <td>0.0</td>\n      <td>50.0</td>\n      <td>33.3</td>\n      <td>100.0</td>\n      <td>0.0</td>\n      <td>100.0</td>\n      <td>0.0</td>\n    </tr>\n    <tr>\n      <th rowspan=\"2\" valign=\"top\">middle</th>\n      <th>deep</th>\n      <td>0.0</td>\n      <td>0.0</td>\n      <td>0.0</td>\n      <td>0.0</td>\n      <td>0.0</td>\n      <td>0.0</td>\n      <td>0.0</td>\n      <td>0.0</td>\n      <td>5.3</td>\n      <td>0.0</td>\n      <td>...</td>\n      <td>12.5</td>\n      <td>0.0</td>\n      <td>25.0</td>\n      <td>33.3</td>\n      <td>0.0</td>\n      <td>0.0</td>\n      <td>0.0</td>\n      <td>0.0</td>\n      <td>0.0</td>\n      <td>0.0</td>\n    </tr>\n    <tr>\n      <th>short</th>\n      <td>0.0</td>\n      <td>9.1</td>\n      <td>50.0</td>\n      <td>0.0</td>\n      <td>0.0</td>\n      <td>33.3</td>\n      <td>0.0</td>\n      <td>0.0</td>\n      <td>13.8</td>\n      <td>0.0</td>\n      <td>...</td>\n      <td>25.0</td>\n      <td>40.0</td>\n      <td>0.0</td>\n      <td>33.3</td>\n      <td>0.0</td>\n      <td>0.0</td>\n      <td>0.0</td>\n      <td>100.0</td>\n      <td>0.0</td>\n      <td>0.0</td>\n    </tr>\n    <tr>\n      <th rowspan=\"2\" valign=\"top\">right</th>\n      <th>deep</th>\n      <td>0.0</td>\n      <td>9.1</td>\n      <td>50.0</td>\n      <td>0.0</td>\n      <td>0.0</td>\n      <td>0.0</td>\n      <td>0.0</td>\n      <td>0.0</td>\n      <td>7.4</td>\n      <td>0.0</td>\n      <td>...</td>\n      <td>12.5</td>\n      <td>0.0</td>\n      <td>25.0</td>\n      <td>0.0</td>\n      <td>50.0</td>\n      <td>33.3</td>\n      <td>0.0</td>\n      <td>0.0</td>\n      <td>0.0</td>\n      <td>0.0</td>\n    </tr>\n    <tr>\n      <th>short</th>\n      <td>0.0</td>\n      <td>36.4</td>\n      <td>0.0</td>\n      <td>100.0</td>\n      <td>100.0</td>\n      <td>33.3</td>\n      <td>0.0</td>\n      <td>0.0</td>\n      <td>26.6</td>\n      <td>0.0</td>\n      <td>...</td>\n      <td>37.5</td>\n      <td>20.0</td>\n      <td>0.0</td>\n      <td>33.3</td>\n      <td>0.0</td>\n      <td>33.3</td>\n      <td>0.0</td>\n      <td>0.0</td>\n      <td>0.0</td>\n      <td>100.0</td>\n    </tr>\n  </tbody>\n</table>\n<p>6 rows × 48 columns</p>\n</div>"
     },
     "metadata": {},
     "execution_count": 39
    }
   ],
   "source": [
    "## PLAYCALL FREQUENCY BY PLAY TYPE & DOWN & DIstance\n",
    "\n",
    "def PlayFreq_ByTeam_Down(DF, PlayType, Team):\n",
    " \n",
    "    PT = str(PlayType)\n",
    "\n",
    "\n",
    "    neutral_situation = pd.DataFrame(DF.query(\"down < 4 & half_seconds_remaining > 120 & wp > .2 & wp <.8\"))\n",
    "    Play_filter = neutral_situation[neutral_situation['play_type'] == PT]\n",
    "    Play_filter = Play_filter[neutral_situation['posteam'] == Team]\n",
    "\n",
    "    if PlayType == 'run':\n",
    "        Tab = pd.crosstab([Play_filter.posteam,Play_filter.play_type,Play_filter.run_location, Play_filter.run_gap], columns= [Play_filter.shotgun,Play_filter.down, Play_filter.ydstogo] ,values = Play_filter.play_id, aggfunc='count', normalize='columns')\n",
    "    elif PlayType == 'pass':\n",
    "        Tab = pd.crosstab([Play_filter.posteam,Play_filter.play_type,Play_filter.pass_location, Play_filter.pass_length], columns= [ Play_filter.shotgun, Play_filter.down, Play_filter.ydstogo] ,values = Play_filter.play_id, aggfunc='count', normalize='columns')\n",
    "    else:\n",
    "        print(\"invalid play type\")\n",
    "\n",
    "\n",
    "    return round(Tab*100,1)\n",
    "\n",
    "PlayFreq_ByTeam_Down(data_2020,'pass',Team)"
   ]
  }
 ]
}