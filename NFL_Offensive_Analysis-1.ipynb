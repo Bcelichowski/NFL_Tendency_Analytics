{
 "metadata": {
  "language_info": {
   "codemirror_mode": {
    "name": "ipython",
    "version": 3
   },
   "file_extension": ".py",
   "mimetype": "text/x-python",
   "name": "python",
   "nbconvert_exporter": "python",
   "pygments_lexer": "ipython3",
   "version": "3.8.5-final"
  },
  "orig_nbformat": 2,
  "kernelspec": {
   "name": "python3",
   "display_name": "Python 3.8.5 64-bit",
   "metadata": {
    "interpreter": {
     "hash": "1a2617327bae65c6a4d799e81fa840f9000ae74bb7b660fd632746a44d38d3e2"
    }
   }
  }
 },
 "nbformat": 4,
 "nbformat_minor": 2,
 "cells": [
  {
   "cell_type": "code",
   "execution_count": 5,
   "metadata": {},
   "outputs": [],
   "source": [
    "\n",
    "import pandas as pd\n",
    "import seaborn as sns\n",
    "import matplotlib.pyplot as plt\n",
    "import os\n",
    "import urllib.request\n",
    "from matplotlib.offsetbox import OffsetImage, AnnotationBbox\n",
    "%matplotlib inline"
   ]
  },
  {
   "cell_type": "code",
   "execution_count": 6,
   "metadata": {},
   "outputs": [
    {
     "output_type": "execute_result",
     "data": {
      "text/plain": [
       "'NFL FASTR Documentation:\\nhttps://www.rdocumentation.org/packages/nflscrapR/versions/1.8.1/topics/scrape_json_play_by_play'"
      ]
     },
     "metadata": {},
     "execution_count": 6
    }
   ],
   "source": [
    "'''NFL FASTR Documentation:\n",
    "https://www.rdocumentation.org/packages/nflscrapR/versions/1.8.1/topics/scrape_json_play_by_play'''"
   ]
  },
  {
   "cell_type": "code",
   "execution_count": 7,
   "metadata": {},
   "outputs": [],
   "source": [
    "'''Procure Data'''\n",
    "\n",
    "URL = 'https://github.com/guga31bb/nflfastR-data/blob/master/'\n",
    "Unzip = '.csv.gz?raw=True'"
   ]
  },
  {
   "cell_type": "code",
   "execution_count": 8,
   "metadata": {},
   "outputs": [],
   "source": [
    "'''Pull data'''\n",
    "\n",
    "def pull_PBP_data(YEAR):\n",
    "    \n",
    "    data = pd.read_csv('https://github.com/guga31bb/nflfastR-data/blob/master/data/' \\\n",
    "                         'play_by_play_' + str(YEAR) + Unzip,\n",
    "                         compression='gzip', low_memory=False)\n",
    "    \n",
    "    return data"
   ]
  },
  {
   "cell_type": "code",
   "execution_count": 9,
   "metadata": {},
   "outputs": [],
   "source": [
    "'''Data frames from last 3 years'''\n",
    "\n",
    "data_2020 = pd.DataFrame(pull_PBP_data(2020))\n",
    "data_2019 = pd.DataFrame(pull_PBP_data(2019))\n",
    "data_2018 = pd.DataFrame(pull_PBP_data(2018))\n"
   ]
  },
  {
   "cell_type": "code",
   "execution_count": 10,
   "metadata": {},
   "outputs": [],
   "source": [
    "# Neutral Situation\n",
    "\n",
    "def Neutral_Situation_Call(DF):\n",
    "    neutral_situation = DF.query(\"down < 4 & half_seconds_remaining > 120 & wp > .2 & wp <.8 & play_type != 'no_play'\")\n",
    "    return neutral_situation\n",
    "\n",
    "neutral_situation = Neutral_Situation_Call(data_2020)"
   ]
  },
  {
   "cell_type": "code",
   "execution_count": 22,
   "metadata": {},
   "outputs": [],
   "source": [
    "# Team List\n",
    "Team_List = ['ARI',\n",
    "'ATL',\n",
    "'BAL',\n",
    "'BUF',\n",
    "'CAR',\n",
    "'CHI',\n",
    "'CIN',\n",
    "'CLE',\n",
    "'DAL',\n",
    "'DEN',\n",
    "'DET',\n",
    "'GB',\n",
    "'HOU',\n",
    "'IND',\n",
    "'JAX',\n",
    "'KC',\n",
    "'LA',\n",
    "'LAC',\n",
    "'LV',\n",
    "'MIA',\n",
    "'MIN',\n",
    "'NE',\n",
    "'NO',\n",
    "'NYG',\n",
    "'NYJ',\n",
    "'PHI',\n",
    "'PIT',\n",
    "'SEA',\n",
    "'SF',\n",
    "'TB',\n",
    "'TEN',\n",
    "'WAS']\n",
    "\n",
    "\n",
    "\n"
   ]
  },
  {
   "cell_type": "code",
   "execution_count": 35,
   "metadata": {},
   "outputs": [
    {
     "output_type": "stream",
     "name": "stdout",
     "text": [
      "CHI\n"
     ]
    }
   ],
   "source": [
    "#CHOOSE TEAM\n",
    "\n",
    "def Select_Team():\n",
    "    \n",
    "    team = input('Input Team Name:')\n",
    "    \n",
    "    team = team.upper()\n",
    "\n",
    "    if team in Team_List:\n",
    "        return team\n",
    "    else:\n",
    "        print('Please input a valid team')\n",
    "\n",
    "    return team\n",
    "\n",
    "print(Select_Team())\n",
    "\n"
   ]
  },
  {
   "cell_type": "code",
   "execution_count": 36,
   "metadata": {},
   "outputs": [
    {
     "output_type": "stream",
     "name": "stderr",
     "text": [
      "<ipython-input-36-d6ce4d753ee5>:10: UserWarning: Boolean Series key will be reindexed to match DataFrame index.\n  Play_filter = Play_filter[neutral_situation['posteam'] == Team]\n"
     ]
    },
    {
     "output_type": "execute_result",
     "data": {
      "text/plain": [
       "shotgun                                         0           1            \n",
       "down                                          1.0   2.0   1.0   2.0   3.0\n",
       "posteam play_type pass_location pass_length                              \n",
       "CHI     pass      left          deep         14.0  11.1   0.0   6.2   3.9\n",
       "                                short        30.0  33.3  32.7  34.4  21.1\n",
       "                  middle        deep          2.0  18.5   1.9   3.1   6.6\n",
       "                                short         8.0   3.7  28.8  15.6  26.3\n",
       "                  right         deep          8.0   7.4   9.6   4.7   5.3\n",
       "                                short        38.0  25.9  26.9  35.9  36.8"
      ],
      "text/html": "<div>\n<style scoped>\n    .dataframe tbody tr th:only-of-type {\n        vertical-align: middle;\n    }\n\n    .dataframe tbody tr th {\n        vertical-align: top;\n    }\n\n    .dataframe thead tr th {\n        text-align: left;\n    }\n\n    .dataframe thead tr:last-of-type th {\n        text-align: right;\n    }\n</style>\n<table border=\"1\" class=\"dataframe\">\n  <thead>\n    <tr>\n      <th></th>\n      <th></th>\n      <th></th>\n      <th>shotgun</th>\n      <th colspan=\"2\" halign=\"left\">0</th>\n      <th colspan=\"3\" halign=\"left\">1</th>\n    </tr>\n    <tr>\n      <th></th>\n      <th></th>\n      <th></th>\n      <th>down</th>\n      <th>1.0</th>\n      <th>2.0</th>\n      <th>1.0</th>\n      <th>2.0</th>\n      <th>3.0</th>\n    </tr>\n    <tr>\n      <th>posteam</th>\n      <th>play_type</th>\n      <th>pass_location</th>\n      <th>pass_length</th>\n      <th></th>\n      <th></th>\n      <th></th>\n      <th></th>\n      <th></th>\n    </tr>\n  </thead>\n  <tbody>\n    <tr>\n      <th rowspan=\"6\" valign=\"top\">CHI</th>\n      <th rowspan=\"6\" valign=\"top\">pass</th>\n      <th rowspan=\"2\" valign=\"top\">left</th>\n      <th>deep</th>\n      <td>14.0</td>\n      <td>11.1</td>\n      <td>0.0</td>\n      <td>6.2</td>\n      <td>3.9</td>\n    </tr>\n    <tr>\n      <th>short</th>\n      <td>30.0</td>\n      <td>33.3</td>\n      <td>32.7</td>\n      <td>34.4</td>\n      <td>21.1</td>\n    </tr>\n    <tr>\n      <th rowspan=\"2\" valign=\"top\">middle</th>\n      <th>deep</th>\n      <td>2.0</td>\n      <td>18.5</td>\n      <td>1.9</td>\n      <td>3.1</td>\n      <td>6.6</td>\n    </tr>\n    <tr>\n      <th>short</th>\n      <td>8.0</td>\n      <td>3.7</td>\n      <td>28.8</td>\n      <td>15.6</td>\n      <td>26.3</td>\n    </tr>\n    <tr>\n      <th rowspan=\"2\" valign=\"top\">right</th>\n      <th>deep</th>\n      <td>8.0</td>\n      <td>7.4</td>\n      <td>9.6</td>\n      <td>4.7</td>\n      <td>5.3</td>\n    </tr>\n    <tr>\n      <th>short</th>\n      <td>38.0</td>\n      <td>25.9</td>\n      <td>26.9</td>\n      <td>35.9</td>\n      <td>36.8</td>\n    </tr>\n  </tbody>\n</table>\n</div>"
     },
     "metadata": {},
     "execution_count": 36
    }
   ],
   "source": [
    "## PLAYCALL FREQUENCY BY PLAY TYPE & DOWN\n",
    "\n",
    "def PlayFreq_ByTeam_Down(DF, PlayType, Team):\n",
    " \n",
    "    PT = str(PlayType)\n",
    "\n",
    "\n",
    "    neutral_situation = pd.DataFrame(DF.query(\"down < 4 & half_seconds_remaining > 120 & wp > .2 & wp <.8\"))\n",
    "    Play_filter = neutral_situation[neutral_situation['play_type'] == PT]\n",
    "    Play_filter = Play_filter[neutral_situation['posteam'] == Team]\n",
    "\n",
    "    if PlayType == 'run':\n",
    "        Tab = pd.crosstab([Play_filter.posteam,Play_filter.play_type,Play_filter.run_location, Play_filter.run_gap], columns= [Play_filter.shotgun,Play_filter.down] ,values = Play_filter.play_id, aggfunc='count', normalize='columns')\n",
    "    elif PlayType == 'pass':\n",
    "        Tab = pd.crosstab([Play_filter.posteam,Play_filter.play_type,Play_filter.pass_location, Play_filter.pass_length], columns= [ Play_filter.shotgun, Play_filter.down] ,values = Play_filter.play_id, aggfunc='count', normalize='columns')\n",
    "    else:\n",
    "        print(\"invalid play type\")\n",
    "\n",
    "\n",
    "    return round(Tab*100,1)\n",
    "\n",
    "PlayFreq_ByTeam_Down(data_2020,'pass',Team)"
   ]
  },
  {
   "cell_type": "code",
   "execution_count": 62,
   "metadata": {},
   "outputs": [
    {
     "output_type": "stream",
     "name": "stderr",
     "text": [
      "<ipython-input-62-c11c0a8a5dc3>:10: UserWarning: Boolean Series key will be reindexed to match DataFrame index.\n  Play_filter = Play_filter[neutral_situation['posteam'] == Team]\n"
     ]
    },
    {
     "output_type": "execute_result",
     "data": {
      "text/plain": [
       "shotgun               0                  1            \n",
       "down                1.0   2.0    3.0   1.0   2.0   3.0\n",
       "posteam play_type                                     \n",
       "CHI     pass       37.7  34.2    0.0  67.1  68.6  82.8\n",
       "        run        62.3  65.8  100.0  32.9  31.4  17.2"
      ],
      "text/html": "<div>\n<style scoped>\n    .dataframe tbody tr th:only-of-type {\n        vertical-align: middle;\n    }\n\n    .dataframe tbody tr th {\n        vertical-align: top;\n    }\n\n    .dataframe thead tr th {\n        text-align: left;\n    }\n\n    .dataframe thead tr:last-of-type th {\n        text-align: right;\n    }\n</style>\n<table border=\"1\" class=\"dataframe\">\n  <thead>\n    <tr>\n      <th></th>\n      <th>shotgun</th>\n      <th colspan=\"3\" halign=\"left\">0</th>\n      <th colspan=\"3\" halign=\"left\">1</th>\n    </tr>\n    <tr>\n      <th></th>\n      <th>down</th>\n      <th>1.0</th>\n      <th>2.0</th>\n      <th>3.0</th>\n      <th>1.0</th>\n      <th>2.0</th>\n      <th>3.0</th>\n    </tr>\n    <tr>\n      <th>posteam</th>\n      <th>play_type</th>\n      <th></th>\n      <th></th>\n      <th></th>\n      <th></th>\n      <th></th>\n      <th></th>\n    </tr>\n  </thead>\n  <tbody>\n    <tr>\n      <th rowspan=\"2\" valign=\"top\">CHI</th>\n      <th>pass</th>\n      <td>37.7</td>\n      <td>34.2</td>\n      <td>0.0</td>\n      <td>67.1</td>\n      <td>68.6</td>\n      <td>82.8</td>\n    </tr>\n    <tr>\n      <th>run</th>\n      <td>62.3</td>\n      <td>65.8</td>\n      <td>100.0</td>\n      <td>32.9</td>\n      <td>31.4</td>\n      <td>17.2</td>\n    </tr>\n  </tbody>\n</table>\n</div>"
     },
     "metadata": {},
     "execution_count": 62
    }
   ],
   "source": [
    "## PLAYCALL TYPE FREQUENCY BY DOWN\n",
    "\n",
    "def PlayFreqType_ByTeam_Down(DF, Team):\n",
    " \n",
    "  \n",
    "\n",
    "\n",
    "    neutral_situation = pd.DataFrame(DF.query(\"down < 4 & half_seconds_remaining > 120 & wp > .2 & wp <.8\"))\n",
    "    Play_filter = neutral_situation[(neutral_situation['play_type'] == 'pass') | (neutral_situation['play_type'] == 'run') ]\n",
    "    Play_filter = Play_filter[neutral_situation['posteam'] == Team]\n",
    "\n",
    "    \n",
    "    Tab = pd.crosstab([Play_filter.posteam,  Play_filter.play_type], columns= [Play_filter.shotgun,Play_filter.down] ,values = Play_filter.play_id, aggfunc='count', normalize='columns')\n",
    "    \n",
    "\n",
    "    return round(Tab*100,1)\n",
    "\n",
    "PlayFreqType_ByTeam_Down(data_2020,Team)\n"
   ]
  },
  {
   "cell_type": "code",
   "execution_count": 37,
   "metadata": {},
   "outputs": [
    {
     "output_type": "stream",
     "name": "stderr",
     "text": [
      "<ipython-input-37-e26c5f8815fe>:11: UserWarning: Boolean Series key will be reindexed to match DataFrame index.\n  Play_filter = Play_filter[neutral_situation['posteam'] == Team]\n"
     ]
    },
    {
     "output_type": "execute_result",
     "data": {
      "text/plain": [
       "                                         epa                                \\\n",
       "shotgun                                    0                 1               \n",
       "down                                     1.0   2.0   3.0   1.0   2.0   3.0   \n",
       "posteam play_type run_location run_gap                                       \n",
       "CHI     run       left         end     -0.23 -0.34  1.18 -0.48  0.70  0.33   \n",
       "                               guard   -0.53 -0.02 -1.19 -0.36 -0.40  0.49   \n",
       "                               tackle  -0.12  0.17   NaN  1.38 -0.50   NaN   \n",
       "                  right        end     -0.04  0.54  1.55 -0.07  0.39  0.86   \n",
       "                               guard   -0.46  0.18  0.51 -0.45 -0.51 -0.44   \n",
       "                               tackle  -0.01 -0.00   NaN  0.11 -0.22 -1.83   \n",
       "\n",
       "                                       yards_gained                           \\\n",
       "shotgun                                           0                 1          \n",
       "down                                            1.0   2.0  3.0    1.0    2.0   \n",
       "posteam play_type run_location run_gap                                         \n",
       "CHI     run       left         end             3.25  2.11  7.0   1.40  11.00   \n",
       "                               guard           1.33  2.50  0.0   1.00   3.20   \n",
       "                               tackle          4.18  4.40  NaN  22.00   3.00   \n",
       "                  right        end             4.24  5.40  7.0   4.60   8.60   \n",
       "                               guard           1.60  5.33  3.0   1.50   2.25   \n",
       "                               tackle          3.96  4.09  NaN   5.33   3.67   \n",
       "\n",
       "                                              \n",
       "shotgun                                       \n",
       "down                                     3.0  \n",
       "posteam play_type run_location run_gap        \n",
       "CHI     run       left         end      2.00  \n",
       "                               guard    3.33  \n",
       "                               tackle    NaN  \n",
       "                  right        end      6.00  \n",
       "                               guard    1.50  \n",
       "                               tackle   0.00  "
      ],
      "text/html": "<div>\n<style scoped>\n    .dataframe tbody tr th:only-of-type {\n        vertical-align: middle;\n    }\n\n    .dataframe tbody tr th {\n        vertical-align: top;\n    }\n\n    .dataframe thead tr th {\n        text-align: left;\n    }\n\n    .dataframe thead tr:last-of-type th {\n        text-align: right;\n    }\n</style>\n<table border=\"1\" class=\"dataframe\">\n  <thead>\n    <tr>\n      <th></th>\n      <th></th>\n      <th></th>\n      <th></th>\n      <th colspan=\"6\" halign=\"left\">epa</th>\n      <th colspan=\"6\" halign=\"left\">yards_gained</th>\n    </tr>\n    <tr>\n      <th></th>\n      <th></th>\n      <th></th>\n      <th>shotgun</th>\n      <th colspan=\"3\" halign=\"left\">0</th>\n      <th colspan=\"3\" halign=\"left\">1</th>\n      <th colspan=\"3\" halign=\"left\">0</th>\n      <th colspan=\"3\" halign=\"left\">1</th>\n    </tr>\n    <tr>\n      <th></th>\n      <th></th>\n      <th></th>\n      <th>down</th>\n      <th>1.0</th>\n      <th>2.0</th>\n      <th>3.0</th>\n      <th>1.0</th>\n      <th>2.0</th>\n      <th>3.0</th>\n      <th>1.0</th>\n      <th>2.0</th>\n      <th>3.0</th>\n      <th>1.0</th>\n      <th>2.0</th>\n      <th>3.0</th>\n    </tr>\n    <tr>\n      <th>posteam</th>\n      <th>play_type</th>\n      <th>run_location</th>\n      <th>run_gap</th>\n      <th></th>\n      <th></th>\n      <th></th>\n      <th></th>\n      <th></th>\n      <th></th>\n      <th></th>\n      <th></th>\n      <th></th>\n      <th></th>\n      <th></th>\n      <th></th>\n    </tr>\n  </thead>\n  <tbody>\n    <tr>\n      <th rowspan=\"6\" valign=\"top\">CHI</th>\n      <th rowspan=\"6\" valign=\"top\">run</th>\n      <th rowspan=\"3\" valign=\"top\">left</th>\n      <th>end</th>\n      <td>-0.23</td>\n      <td>-0.34</td>\n      <td>1.18</td>\n      <td>-0.48</td>\n      <td>0.70</td>\n      <td>0.33</td>\n      <td>3.25</td>\n      <td>2.11</td>\n      <td>7.0</td>\n      <td>1.40</td>\n      <td>11.00</td>\n      <td>2.00</td>\n    </tr>\n    <tr>\n      <th>guard</th>\n      <td>-0.53</td>\n      <td>-0.02</td>\n      <td>-1.19</td>\n      <td>-0.36</td>\n      <td>-0.40</td>\n      <td>0.49</td>\n      <td>1.33</td>\n      <td>2.50</td>\n      <td>0.0</td>\n      <td>1.00</td>\n      <td>3.20</td>\n      <td>3.33</td>\n    </tr>\n    <tr>\n      <th>tackle</th>\n      <td>-0.12</td>\n      <td>0.17</td>\n      <td>NaN</td>\n      <td>1.38</td>\n      <td>-0.50</td>\n      <td>NaN</td>\n      <td>4.18</td>\n      <td>4.40</td>\n      <td>NaN</td>\n      <td>22.00</td>\n      <td>3.00</td>\n      <td>NaN</td>\n    </tr>\n    <tr>\n      <th rowspan=\"3\" valign=\"top\">right</th>\n      <th>end</th>\n      <td>-0.04</td>\n      <td>0.54</td>\n      <td>1.55</td>\n      <td>-0.07</td>\n      <td>0.39</td>\n      <td>0.86</td>\n      <td>4.24</td>\n      <td>5.40</td>\n      <td>7.0</td>\n      <td>4.60</td>\n      <td>8.60</td>\n      <td>6.00</td>\n    </tr>\n    <tr>\n      <th>guard</th>\n      <td>-0.46</td>\n      <td>0.18</td>\n      <td>0.51</td>\n      <td>-0.45</td>\n      <td>-0.51</td>\n      <td>-0.44</td>\n      <td>1.60</td>\n      <td>5.33</td>\n      <td>3.0</td>\n      <td>1.50</td>\n      <td>2.25</td>\n      <td>1.50</td>\n    </tr>\n    <tr>\n      <th>tackle</th>\n      <td>-0.01</td>\n      <td>-0.00</td>\n      <td>NaN</td>\n      <td>0.11</td>\n      <td>-0.22</td>\n      <td>-1.83</td>\n      <td>3.96</td>\n      <td>4.09</td>\n      <td>NaN</td>\n      <td>5.33</td>\n      <td>3.67</td>\n      <td>0.00</td>\n    </tr>\n  </tbody>\n</table>\n</div>"
     },
     "metadata": {},
     "execution_count": 37
    }
   ],
   "source": [
    "## EPA BY DOWN & FORMATION\n",
    "\n",
    "\n",
    "def PlayEPA_ByTeam_Down(DF, PlayType, Team):\n",
    " \n",
    "    PT = str(PlayType)\n",
    "\n",
    "\n",
    "    neutral_situation = pd.DataFrame(DF.query(\"down < 4 & half_seconds_remaining > 120 & wp > .2 & wp <.8\"))\n",
    "    Play_filter = neutral_situation[neutral_situation['play_type'] == PT]\n",
    "    Play_filter = Play_filter[neutral_situation['posteam'] == Team]\n",
    "\n",
    "    if PlayType == 'run':\n",
    "        Tab = pd.pivot_table(Play_filter, index= ['posteam','play_type', 'run_location', 'run_gap'], columns = ['shotgun','down'], values = ['epa', 'yards_gained' ],fill_value = '-')\n",
    "    elif PlayType == 'pass':\n",
    "        Tab = pd.pivot_table(Play_filter, index= ['posteam','play_type', 'pass_location', 'pass_length'], columns = ['shotgun', 'down'], values = ['epa', 'yards_gained', 'air_yards'],fill_value = '-')\n",
    "    else:\n",
    "        print(\"invalid play type\")\n",
    "\n",
    "\n",
    "    return round(Tab,2)\n",
    "\n",
    "PlayEPA_ByTeam_Down(data_2020,'run',Team)"
   ]
  },
  {
   "cell_type": "code",
   "execution_count": 79,
   "metadata": {},
   "outputs": [
    {
     "output_type": "execute_result",
     "data": {
      "text/plain": [
       "                         epa       yards_gained      \n",
       "shotgun                    0     1            0     1\n",
       "posteam play_type down                               \n",
       "CHI     pass      1.0   0.11  0.01         7.13  6.09\n",
       "                  2.0   0.50 -0.10        10.63  5.16\n",
       "                  3.0    NaN -0.39          NaN  4.10\n",
       "        run       1.0  -0.16  0.09         3.43  6.56\n",
       "                  2.0   0.05  0.03         4.06  6.41\n",
       "                  3.0   0.09 -0.06         3.00  2.59"
      ],
      "text/html": "<div>\n<style scoped>\n    .dataframe tbody tr th:only-of-type {\n        vertical-align: middle;\n    }\n\n    .dataframe tbody tr th {\n        vertical-align: top;\n    }\n\n    .dataframe thead tr th {\n        text-align: left;\n    }\n\n    .dataframe thead tr:last-of-type th {\n        text-align: right;\n    }\n</style>\n<table border=\"1\" class=\"dataframe\">\n  <thead>\n    <tr>\n      <th></th>\n      <th></th>\n      <th></th>\n      <th colspan=\"2\" halign=\"left\">epa</th>\n      <th colspan=\"2\" halign=\"left\">yards_gained</th>\n    </tr>\n    <tr>\n      <th></th>\n      <th></th>\n      <th>shotgun</th>\n      <th>0</th>\n      <th>1</th>\n      <th>0</th>\n      <th>1</th>\n    </tr>\n    <tr>\n      <th>posteam</th>\n      <th>play_type</th>\n      <th>down</th>\n      <th></th>\n      <th></th>\n      <th></th>\n      <th></th>\n    </tr>\n  </thead>\n  <tbody>\n    <tr>\n      <th rowspan=\"6\" valign=\"top\">CHI</th>\n      <th rowspan=\"3\" valign=\"top\">pass</th>\n      <th>1.0</th>\n      <td>0.11</td>\n      <td>0.01</td>\n      <td>7.13</td>\n      <td>6.09</td>\n    </tr>\n    <tr>\n      <th>2.0</th>\n      <td>0.50</td>\n      <td>-0.10</td>\n      <td>10.63</td>\n      <td>5.16</td>\n    </tr>\n    <tr>\n      <th>3.0</th>\n      <td>NaN</td>\n      <td>-0.39</td>\n      <td>NaN</td>\n      <td>4.10</td>\n    </tr>\n    <tr>\n      <th rowspan=\"3\" valign=\"top\">run</th>\n      <th>1.0</th>\n      <td>-0.16</td>\n      <td>0.09</td>\n      <td>3.43</td>\n      <td>6.56</td>\n    </tr>\n    <tr>\n      <th>2.0</th>\n      <td>0.05</td>\n      <td>0.03</td>\n      <td>4.06</td>\n      <td>6.41</td>\n    </tr>\n    <tr>\n      <th>3.0</th>\n      <td>0.09</td>\n      <td>-0.06</td>\n      <td>3.00</td>\n      <td>2.59</td>\n    </tr>\n  </tbody>\n</table>\n</div>"
     },
     "metadata": {},
     "execution_count": 79
    }
   ],
   "source": [
    "# EPA by Team, Play-type and Down -- HI LEVEL\n",
    "\n",
    "\n",
    "def EPA_ByTeam_Down(DF, Team):\n",
    "\n",
    "    Team_table = neutral_situation[neutral_situation['posteam']==Team]\n",
    "    \n",
    "    Table_2 = round(pd.pivot_table(Team_table, index= ['posteam','play_type', 'down'], columns = ['shotgun'], values = ['epa', 'yards_gained'], fill_value = '-'),2)\n",
    "\n",
    "    return pd.DataFrame(Table_2) \n",
    "\n",
    "EPA_ByTeam_Down(data_2020,Team)\n",
    "\n"
   ]
  },
  {
   "cell_type": "code",
   "execution_count": 81,
   "metadata": {},
   "outputs": [
    {
     "output_type": "stream",
     "name": "stderr",
     "text": [
      "<ipython-input-81-0dee506e202e>:11: UserWarning: Boolean Series key will be reindexed to match DataFrame index.\n  Play_filter = Play_filter[neutral_situation['posteam'] == Team]\n"
     ]
    },
    {
     "output_type": "execute_result",
     "data": {
      "text/plain": [
       "                                             epa                       \\\n",
       "shotgun                                        0                        \n",
       "down                                         1.0                        \n",
       "rusher                                  A.Miller  A.Pierce A.Robinson   \n",
       "posteam play_type run_location run_gap                                  \n",
       "CHI     run       left         end     -0.285854         -  -0.903545   \n",
       "                               guard           -         -          -   \n",
       "                               tackle          -         -          -   \n",
       "                  right        end             - -0.086524          -   \n",
       "                               guard           -         -          -   \n",
       "                               tackle          -  0.244609          -   \n",
       "\n",
       "                                                                        \\\n",
       "shotgun                                                                  \n",
       "down                                                                     \n",
       "rusher                                    C.Kmet C.Patterson  D.Carter   \n",
       "posteam play_type run_location run_gap                                   \n",
       "CHI     run       left         end             -       -0.25         -   \n",
       "                               guard           -       -0.44         -   \n",
       "                               tackle          -       -0.04         -   \n",
       "                  right        end     -1.022734        0.30 -0.132055   \n",
       "                               guard           -       -0.34         -   \n",
       "                               tackle          -       -0.31         -   \n",
       "\n",
       "                                                                         \\\n",
       "shotgun                                                                   \n",
       "down                                                                      \n",
       "rusher                                 D.Montgomery  D.Mooney   T.Cohen   \n",
       "posteam play_type run_location run_gap                                    \n",
       "CHI     run       left         end             0.06         -         -   \n",
       "                               guard          -0.55         -         -   \n",
       "                               tackle         -0.18         -         -   \n",
       "                  right        end            -0.33  0.277179         -   \n",
       "                               guard          -0.48         -         -   \n",
       "                               tackle          0.01         - -0.017823   \n",
       "\n",
       "                                                  ... yards_gained  \\\n",
       "shotgun                                           ...            1   \n",
       "down                                         2.0  ...          1.0   \n",
       "rusher                                  A.Miller  ...   M.Trubisky   \n",
       "posteam play_type run_location run_gap            ...                \n",
       "CHI     run       left         end      0.896283  ...          1.0   \n",
       "                               guard           -  ...            -   \n",
       "                               tackle          -  ...            -   \n",
       "                  right        end             -  ...          8.0   \n",
       "                               guard           -  ...            -   \n",
       "                               tackle          -  ...            -   \n",
       "\n",
       "                                                                         \\\n",
       "shotgun                                                                   \n",
       "down                                           2.0                        \n",
       "rusher                                 C.Patterson D.Montgomery N.Foles   \n",
       "posteam play_type run_location run_gap                                    \n",
       "CHI     run       left         end               -         5.00       -   \n",
       "                               guard           0.0         4.00       -   \n",
       "                               tackle            -         3.00       -   \n",
       "                  right        end            -1.0        10.67       -   \n",
       "                               guard             -         2.25       -   \n",
       "                               tackle            -         5.00     0.0   \n",
       "\n",
       "                                                                     \\\n",
       "shotgun                                                               \n",
       "down                                                3.0               \n",
       "rusher                                 T.Cohen A.Pierce C.Patterson   \n",
       "posteam play_type run_location run_gap                                \n",
       "CHI     run       left         end        17.0        -           -   \n",
       "                               guard         -        -           -   \n",
       "                               tackle        -        -           -   \n",
       "                  right        end           -        -           -   \n",
       "                               guard         -     -1.0         3.0   \n",
       "                               tackle        -        -           -   \n",
       "\n",
       "                                                                        \n",
       "shotgun                                                                 \n",
       "down                                                                    \n",
       "rusher                                 D.Montgomery M.Trubisky T.Cohen  \n",
       "posteam play_type run_location run_gap                                  \n",
       "CHI     run       left         end                -        2.0       -  \n",
       "                               guard            3.0          -     5.0  \n",
       "                               tackle             -          -       -  \n",
       "                  right        end              5.0          -       -  \n",
       "                               guard            2.0          -       -  \n",
       "                               tackle           0.0          -       -  \n",
       "\n",
       "[6 rows x 60 columns]"
      ],
      "text/html": "<div>\n<style scoped>\n    .dataframe tbody tr th:only-of-type {\n        vertical-align: middle;\n    }\n\n    .dataframe tbody tr th {\n        vertical-align: top;\n    }\n\n    .dataframe thead tr th {\n        text-align: left;\n    }\n\n    .dataframe thead tr:last-of-type th {\n        text-align: right;\n    }\n</style>\n<table border=\"1\" class=\"dataframe\">\n  <thead>\n    <tr>\n      <th></th>\n      <th></th>\n      <th></th>\n      <th></th>\n      <th colspan=\"10\" halign=\"left\">epa</th>\n      <th>...</th>\n      <th colspan=\"10\" halign=\"left\">yards_gained</th>\n    </tr>\n    <tr>\n      <th></th>\n      <th></th>\n      <th></th>\n      <th>shotgun</th>\n      <th colspan=\"10\" halign=\"left\">0</th>\n      <th>...</th>\n      <th colspan=\"10\" halign=\"left\">1</th>\n    </tr>\n    <tr>\n      <th></th>\n      <th></th>\n      <th></th>\n      <th>down</th>\n      <th colspan=\"9\" halign=\"left\">1.0</th>\n      <th>2.0</th>\n      <th>...</th>\n      <th>1.0</th>\n      <th colspan=\"4\" halign=\"left\">2.0</th>\n      <th colspan=\"5\" halign=\"left\">3.0</th>\n    </tr>\n    <tr>\n      <th></th>\n      <th></th>\n      <th></th>\n      <th>rusher</th>\n      <th>A.Miller</th>\n      <th>A.Pierce</th>\n      <th>A.Robinson</th>\n      <th>C.Kmet</th>\n      <th>C.Patterson</th>\n      <th>D.Carter</th>\n      <th>D.Montgomery</th>\n      <th>D.Mooney</th>\n      <th>T.Cohen</th>\n      <th>A.Miller</th>\n      <th>...</th>\n      <th>M.Trubisky</th>\n      <th>C.Patterson</th>\n      <th>D.Montgomery</th>\n      <th>N.Foles</th>\n      <th>T.Cohen</th>\n      <th>A.Pierce</th>\n      <th>C.Patterson</th>\n      <th>D.Montgomery</th>\n      <th>M.Trubisky</th>\n      <th>T.Cohen</th>\n    </tr>\n    <tr>\n      <th>posteam</th>\n      <th>play_type</th>\n      <th>run_location</th>\n      <th>run_gap</th>\n      <th></th>\n      <th></th>\n      <th></th>\n      <th></th>\n      <th></th>\n      <th></th>\n      <th></th>\n      <th></th>\n      <th></th>\n      <th></th>\n      <th></th>\n      <th></th>\n      <th></th>\n      <th></th>\n      <th></th>\n      <th></th>\n      <th></th>\n      <th></th>\n      <th></th>\n      <th></th>\n      <th></th>\n    </tr>\n  </thead>\n  <tbody>\n    <tr>\n      <th rowspan=\"6\" valign=\"top\">CHI</th>\n      <th rowspan=\"6\" valign=\"top\">run</th>\n      <th rowspan=\"3\" valign=\"top\">left</th>\n      <th>end</th>\n      <td>-0.285854</td>\n      <td>-</td>\n      <td>-0.903545</td>\n      <td>-</td>\n      <td>-0.25</td>\n      <td>-</td>\n      <td>0.06</td>\n      <td>-</td>\n      <td>-</td>\n      <td>0.896283</td>\n      <td>...</td>\n      <td>1.0</td>\n      <td>-</td>\n      <td>5.00</td>\n      <td>-</td>\n      <td>17.0</td>\n      <td>-</td>\n      <td>-</td>\n      <td>-</td>\n      <td>2.0</td>\n      <td>-</td>\n    </tr>\n    <tr>\n      <th>guard</th>\n      <td>-</td>\n      <td>-</td>\n      <td>-</td>\n      <td>-</td>\n      <td>-0.44</td>\n      <td>-</td>\n      <td>-0.55</td>\n      <td>-</td>\n      <td>-</td>\n      <td>-</td>\n      <td>...</td>\n      <td>-</td>\n      <td>0.0</td>\n      <td>4.00</td>\n      <td>-</td>\n      <td>-</td>\n      <td>-</td>\n      <td>-</td>\n      <td>3.0</td>\n      <td>-</td>\n      <td>5.0</td>\n    </tr>\n    <tr>\n      <th>tackle</th>\n      <td>-</td>\n      <td>-</td>\n      <td>-</td>\n      <td>-</td>\n      <td>-0.04</td>\n      <td>-</td>\n      <td>-0.18</td>\n      <td>-</td>\n      <td>-</td>\n      <td>-</td>\n      <td>...</td>\n      <td>-</td>\n      <td>-</td>\n      <td>3.00</td>\n      <td>-</td>\n      <td>-</td>\n      <td>-</td>\n      <td>-</td>\n      <td>-</td>\n      <td>-</td>\n      <td>-</td>\n    </tr>\n    <tr>\n      <th rowspan=\"3\" valign=\"top\">right</th>\n      <th>end</th>\n      <td>-</td>\n      <td>-0.086524</td>\n      <td>-</td>\n      <td>-1.022734</td>\n      <td>0.30</td>\n      <td>-0.132055</td>\n      <td>-0.33</td>\n      <td>0.277179</td>\n      <td>-</td>\n      <td>-</td>\n      <td>...</td>\n      <td>8.0</td>\n      <td>-1.0</td>\n      <td>10.67</td>\n      <td>-</td>\n      <td>-</td>\n      <td>-</td>\n      <td>-</td>\n      <td>5.0</td>\n      <td>-</td>\n      <td>-</td>\n    </tr>\n    <tr>\n      <th>guard</th>\n      <td>-</td>\n      <td>-</td>\n      <td>-</td>\n      <td>-</td>\n      <td>-0.34</td>\n      <td>-</td>\n      <td>-0.48</td>\n      <td>-</td>\n      <td>-</td>\n      <td>-</td>\n      <td>...</td>\n      <td>-</td>\n      <td>-</td>\n      <td>2.25</td>\n      <td>-</td>\n      <td>-</td>\n      <td>-1.0</td>\n      <td>3.0</td>\n      <td>2.0</td>\n      <td>-</td>\n      <td>-</td>\n    </tr>\n    <tr>\n      <th>tackle</th>\n      <td>-</td>\n      <td>0.244609</td>\n      <td>-</td>\n      <td>-</td>\n      <td>-0.31</td>\n      <td>-</td>\n      <td>0.01</td>\n      <td>-</td>\n      <td>-0.017823</td>\n      <td>-</td>\n      <td>...</td>\n      <td>-</td>\n      <td>-</td>\n      <td>5.00</td>\n      <td>0.0</td>\n      <td>-</td>\n      <td>-</td>\n      <td>-</td>\n      <td>0.0</td>\n      <td>-</td>\n      <td>-</td>\n    </tr>\n  </tbody>\n</table>\n<p>6 rows × 60 columns</p>\n</div>"
     },
     "metadata": {},
     "execution_count": 81
    }
   ],
   "source": [
    "## EPA BY DOWN & FORMATION\n",
    "\n",
    "\n",
    "def PlayEPA_ByTeam_Down_Player(DF, PlayType, Team):\n",
    " \n",
    "    PT = str(PlayType)\n",
    "\n",
    "\n",
    "    neutral_situation = pd.DataFrame(DF.query(\"down < 4 & half_seconds_remaining > 120 & wp > .2 & wp <.8\"))\n",
    "    Play_filter = neutral_situation[neutral_situation['play_type'] == PT]\n",
    "    Play_filter = Play_filter[neutral_situation['posteam'] == Team]\n",
    "\n",
    "    if PlayType == 'run':\n",
    "        Tab = pd.pivot_table(Play_filter, index= ['posteam','play_type', 'run_location', 'run_gap'], columns = ['shotgun','down', 'rusher'], values = ['epa', 'yards_gained' ], aggfunc='mean', fill_value = '-')\n",
    "    elif PlayType == 'pass':\n",
    "        Tab = pd.pivot_table(Play_filter, index= ['posteam','play_type', 'pass_location', 'pass_length'], columns = ['shotgun', 'down'], values = ['epa', 'yards_gained', 'air_yards'], aggfunc='mean', fill_value = '-')\n",
    "    else:\n",
    "        print(\"invalid play type\")\n",
    "\n",
    "\n",
    "    return round(Tab,2)\n",
    "\n",
    "PlayEPA_ByTeam_Down_Player(data_2020,'run',Team)"
   ]
  },
  {
   "cell_type": "code",
   "execution_count": 84,
   "metadata": {},
   "outputs": [
    {
     "output_type": "stream",
     "name": "stderr",
     "text": [
      "<ipython-input-84-6fef571926b0>:8: UserWarning: Boolean Series key will be reindexed to match DataFrame index.\n  Play_filter = Play_filter[neutral_situation['posteam'] == Team]\n"
     ]
    },
    {
     "output_type": "execute_result",
     "data": {
      "text/plain": [
       "run_location                left                right              \n",
       "run_gap                      end  guard tackle    end  guard tackle\n",
       "posteam down rusher                                                \n",
       "CHI     1.0  A.Miller      100.0    0.0    0.0    0.0    0.0    0.0\n",
       "             A.Pierce        0.0    0.0    0.0   50.0    0.0   50.0\n",
       "             A.Robinson    100.0    0.0    0.0    0.0    0.0    0.0\n",
       "             C.Kmet          0.0    0.0    0.0  100.0    0.0    0.0\n",
       "             C.Patterson    20.0    8.0   32.0   28.0    4.0    8.0\n",
       "             D.Carter        0.0    0.0    0.0  100.0    0.0    0.0\n",
       "             D.Montgomery    9.1   10.6   21.2   10.6   16.7   31.8\n",
       "             D.Mooney        0.0    0.0    0.0  100.0    0.0    0.0\n",
       "             M.Trubisky     66.7    0.0    0.0   33.3    0.0    0.0\n",
       "             T.Cohen         0.0    0.0    0.0    0.0    0.0  100.0\n",
       "        2.0  A.Miller      100.0    0.0    0.0    0.0    0.0    0.0\n",
       "             A.Pierce      100.0    0.0    0.0    0.0    0.0    0.0\n",
       "             C.Patterson    35.7   14.3   14.3   14.3   14.3    7.1\n",
       "             D.Montgomery    4.1   10.2   22.4   10.2   26.5   26.5\n",
       "             D.Mooney      100.0    0.0    0.0    0.0    0.0    0.0\n",
       "             M.Trubisky      0.0    0.0    0.0    0.0  100.0    0.0\n",
       "             N.Foles         0.0    0.0    0.0    0.0    0.0  100.0\n",
       "             T.Cohen        50.0    0.0    0.0    0.0    0.0   50.0\n",
       "        3.0  A.Pierce        0.0    0.0    0.0    0.0  100.0    0.0\n",
       "             C.Patterson     0.0    0.0    0.0    0.0  100.0    0.0\n",
       "             D.Montgomery    7.7   46.2    0.0    7.7   23.1   15.4\n",
       "             M.Trubisky    100.0    0.0    0.0    0.0    0.0    0.0\n",
       "             T.Cohen         0.0  100.0    0.0    0.0    0.0    0.0"
      ],
      "text/html": "<div>\n<style scoped>\n    .dataframe tbody tr th:only-of-type {\n        vertical-align: middle;\n    }\n\n    .dataframe tbody tr th {\n        vertical-align: top;\n    }\n\n    .dataframe thead tr th {\n        text-align: left;\n    }\n\n    .dataframe thead tr:last-of-type th {\n        text-align: right;\n    }\n</style>\n<table border=\"1\" class=\"dataframe\">\n  <thead>\n    <tr>\n      <th></th>\n      <th></th>\n      <th>run_location</th>\n      <th colspan=\"3\" halign=\"left\">left</th>\n      <th colspan=\"3\" halign=\"left\">right</th>\n    </tr>\n    <tr>\n      <th></th>\n      <th></th>\n      <th>run_gap</th>\n      <th>end</th>\n      <th>guard</th>\n      <th>tackle</th>\n      <th>end</th>\n      <th>guard</th>\n      <th>tackle</th>\n    </tr>\n    <tr>\n      <th>posteam</th>\n      <th>down</th>\n      <th>rusher</th>\n      <th></th>\n      <th></th>\n      <th></th>\n      <th></th>\n      <th></th>\n      <th></th>\n    </tr>\n  </thead>\n  <tbody>\n    <tr>\n      <th rowspan=\"23\" valign=\"top\">CHI</th>\n      <th rowspan=\"10\" valign=\"top\">1.0</th>\n      <th>A.Miller</th>\n      <td>100.0</td>\n      <td>0.0</td>\n      <td>0.0</td>\n      <td>0.0</td>\n      <td>0.0</td>\n      <td>0.0</td>\n    </tr>\n    <tr>\n      <th>A.Pierce</th>\n      <td>0.0</td>\n      <td>0.0</td>\n      <td>0.0</td>\n      <td>50.0</td>\n      <td>0.0</td>\n      <td>50.0</td>\n    </tr>\n    <tr>\n      <th>A.Robinson</th>\n      <td>100.0</td>\n      <td>0.0</td>\n      <td>0.0</td>\n      <td>0.0</td>\n      <td>0.0</td>\n      <td>0.0</td>\n    </tr>\n    <tr>\n      <th>C.Kmet</th>\n      <td>0.0</td>\n      <td>0.0</td>\n      <td>0.0</td>\n      <td>100.0</td>\n      <td>0.0</td>\n      <td>0.0</td>\n    </tr>\n    <tr>\n      <th>C.Patterson</th>\n      <td>20.0</td>\n      <td>8.0</td>\n      <td>32.0</td>\n      <td>28.0</td>\n      <td>4.0</td>\n      <td>8.0</td>\n    </tr>\n    <tr>\n      <th>D.Carter</th>\n      <td>0.0</td>\n      <td>0.0</td>\n      <td>0.0</td>\n      <td>100.0</td>\n      <td>0.0</td>\n      <td>0.0</td>\n    </tr>\n    <tr>\n      <th>D.Montgomery</th>\n      <td>9.1</td>\n      <td>10.6</td>\n      <td>21.2</td>\n      <td>10.6</td>\n      <td>16.7</td>\n      <td>31.8</td>\n    </tr>\n    <tr>\n      <th>D.Mooney</th>\n      <td>0.0</td>\n      <td>0.0</td>\n      <td>0.0</td>\n      <td>100.0</td>\n      <td>0.0</td>\n      <td>0.0</td>\n    </tr>\n    <tr>\n      <th>M.Trubisky</th>\n      <td>66.7</td>\n      <td>0.0</td>\n      <td>0.0</td>\n      <td>33.3</td>\n      <td>0.0</td>\n      <td>0.0</td>\n    </tr>\n    <tr>\n      <th>T.Cohen</th>\n      <td>0.0</td>\n      <td>0.0</td>\n      <td>0.0</td>\n      <td>0.0</td>\n      <td>0.0</td>\n      <td>100.0</td>\n    </tr>\n    <tr>\n      <th rowspan=\"8\" valign=\"top\">2.0</th>\n      <th>A.Miller</th>\n      <td>100.0</td>\n      <td>0.0</td>\n      <td>0.0</td>\n      <td>0.0</td>\n      <td>0.0</td>\n      <td>0.0</td>\n    </tr>\n    <tr>\n      <th>A.Pierce</th>\n      <td>100.0</td>\n      <td>0.0</td>\n      <td>0.0</td>\n      <td>0.0</td>\n      <td>0.0</td>\n      <td>0.0</td>\n    </tr>\n    <tr>\n      <th>C.Patterson</th>\n      <td>35.7</td>\n      <td>14.3</td>\n      <td>14.3</td>\n      <td>14.3</td>\n      <td>14.3</td>\n      <td>7.1</td>\n    </tr>\n    <tr>\n      <th>D.Montgomery</th>\n      <td>4.1</td>\n      <td>10.2</td>\n      <td>22.4</td>\n      <td>10.2</td>\n      <td>26.5</td>\n      <td>26.5</td>\n    </tr>\n    <tr>\n      <th>D.Mooney</th>\n      <td>100.0</td>\n      <td>0.0</td>\n      <td>0.0</td>\n      <td>0.0</td>\n      <td>0.0</td>\n      <td>0.0</td>\n    </tr>\n    <tr>\n      <th>M.Trubisky</th>\n      <td>0.0</td>\n      <td>0.0</td>\n      <td>0.0</td>\n      <td>0.0</td>\n      <td>100.0</td>\n      <td>0.0</td>\n    </tr>\n    <tr>\n      <th>N.Foles</th>\n      <td>0.0</td>\n      <td>0.0</td>\n      <td>0.0</td>\n      <td>0.0</td>\n      <td>0.0</td>\n      <td>100.0</td>\n    </tr>\n    <tr>\n      <th>T.Cohen</th>\n      <td>50.0</td>\n      <td>0.0</td>\n      <td>0.0</td>\n      <td>0.0</td>\n      <td>0.0</td>\n      <td>50.0</td>\n    </tr>\n    <tr>\n      <th rowspan=\"5\" valign=\"top\">3.0</th>\n      <th>A.Pierce</th>\n      <td>0.0</td>\n      <td>0.0</td>\n      <td>0.0</td>\n      <td>0.0</td>\n      <td>100.0</td>\n      <td>0.0</td>\n    </tr>\n    <tr>\n      <th>C.Patterson</th>\n      <td>0.0</td>\n      <td>0.0</td>\n      <td>0.0</td>\n      <td>0.0</td>\n      <td>100.0</td>\n      <td>0.0</td>\n    </tr>\n    <tr>\n      <th>D.Montgomery</th>\n      <td>7.7</td>\n      <td>46.2</td>\n      <td>0.0</td>\n      <td>7.7</td>\n      <td>23.1</td>\n      <td>15.4</td>\n    </tr>\n    <tr>\n      <th>M.Trubisky</th>\n      <td>100.0</td>\n      <td>0.0</td>\n      <td>0.0</td>\n      <td>0.0</td>\n      <td>0.0</td>\n      <td>0.0</td>\n    </tr>\n    <tr>\n      <th>T.Cohen</th>\n      <td>0.0</td>\n      <td>100.0</td>\n      <td>0.0</td>\n      <td>0.0</td>\n      <td>0.0</td>\n      <td>0.0</td>\n    </tr>\n  </tbody>\n</table>\n</div>"
     },
     "metadata": {},
     "execution_count": 84
    }
   ],
   "source": [
    "def PlayFreqType_ByTeam_Down_Player(DF,PlayType,Team):\n",
    " \n",
    "  \n",
    "\n",
    "\n",
    "    neutral_situation = pd.DataFrame(DF.query(\"down < 4 & half_seconds_remaining > 120 & wp > .2 & wp <.8\"))\n",
    "    Play_filter = neutral_situation[(neutral_situation['play_type'] == PlayType)]\n",
    "    Play_filter = Play_filter[neutral_situation['posteam'] == Team]\n",
    "\n",
    "    if PlayType == 'run':\n",
    "        Tab = pd.crosstab([Play_filter.posteam,Play_filter.down,Play_filter.rusher], columns= [Play_filter.run_location,Play_filter.run_gap] ,values = Play_filter.play_id, aggfunc='count', normalize='index')\n",
    "    elif PlayType == 'pass':\n",
    "        Tab = pd.crosstab([Play_filter.down, Play_filter.receiver ], columns= [Play_filter.pass_location,Play_filter.pass_length] ,values = Play_filter.play_id, aggfunc='count', normalize='index')\n",
    "    else: \n",
    "        print(\"invalid play type\")\n",
    "\n",
    "\n",
    "\n",
    "    return round(Tab*100,1)\n",
    "\n",
    "PlayFreqType_ByTeam_Down_Player(data_2020,'run',Team)"
   ]
  },
  {
   "cell_type": "code",
   "execution_count": null,
   "metadata": {},
   "outputs": [],
   "source": []
  }
 ]
}